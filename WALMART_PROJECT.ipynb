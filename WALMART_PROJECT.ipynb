{
 "cells": [
  {
   "cell_type": "code",
   "execution_count": 1,
   "id": "f981ef60-c2ba-41de-a0e5-707eb74dd51e",
   "metadata": {},
   "outputs": [],
   "source": [
    "import pandas as pd\n",
    "import numpy as np\n",
    "from sklearn.model_selection import train_test_split\n",
    "from sklearn.pipeline import Pipeline\n",
    "#from sklearn.impute import SimpleImputer\n",
    "from sklearn.preprocessing import  OneHotEncoder, StandardScaler, LabelEncoder\n",
    "from sklearn.compose import ColumnTransformer\n",
    "from sklearn.linear_model import LinearRegression\n",
    "from sklearn.linear_model import Ridge , Lasso\n",
    "from sklearn import linear_model\n",
    "from sklearn.model_selection import  GridSearchCV\n",
    "from sklearn.metrics import r2_score\n",
    "import warnings\n",
    "warnings.filterwarnings(\"ignore\", category=DeprecationWarning) # to avoid deprecation warnings"
   ]
  },
  {
   "cell_type": "markdown",
   "id": "56f7b921",
   "metadata": {},
   "source": [
    "# PART1:\n",
    "## 1.1 EDA:"
   ]
  },
  {
   "cell_type": "code",
   "execution_count": 2,
   "id": "5bb6bca5-ec1d-409c-9ad8-2b454c0c5f8d",
   "metadata": {},
   "outputs": [],
   "source": [
    "# Import dataset\n",
    "df_store_sales=pd.read_csv(\"Walmart_Store_sales.csv\")"
   ]
  },
  {
   "cell_type": "code",
   "execution_count": 3,
   "id": "8b0c82c9-a8f2-46e8-82b1-2f43dd436204",
   "metadata": {},
   "outputs": [
    {
     "name": "stdout",
     "output_type": "stream",
     "text": [
      "Display of store sales dataset: \n"
     ]
    },
    {
     "data": {
      "text/html": [
       "<div>\n",
       "<style scoped>\n",
       "    .dataframe tbody tr th:only-of-type {\n",
       "        vertical-align: middle;\n",
       "    }\n",
       "\n",
       "    .dataframe tbody tr th {\n",
       "        vertical-align: top;\n",
       "    }\n",
       "\n",
       "    .dataframe thead th {\n",
       "        text-align: right;\n",
       "    }\n",
       "</style>\n",
       "<table border=\"1\" class=\"dataframe\">\n",
       "  <thead>\n",
       "    <tr style=\"text-align: right;\">\n",
       "      <th></th>\n",
       "      <th>Store</th>\n",
       "      <th>Date</th>\n",
       "      <th>Weekly_Sales</th>\n",
       "      <th>Holiday_Flag</th>\n",
       "      <th>Temperature</th>\n",
       "      <th>Fuel_Price</th>\n",
       "      <th>CPI</th>\n",
       "      <th>Unemployment</th>\n",
       "    </tr>\n",
       "  </thead>\n",
       "  <tbody>\n",
       "    <tr>\n",
       "      <th>0</th>\n",
       "      <td>6.0</td>\n",
       "      <td>18-02-2011</td>\n",
       "      <td>1572117.54</td>\n",
       "      <td>NaN</td>\n",
       "      <td>59.61</td>\n",
       "      <td>3.045</td>\n",
       "      <td>214.777523</td>\n",
       "      <td>6.858</td>\n",
       "    </tr>\n",
       "    <tr>\n",
       "      <th>1</th>\n",
       "      <td>13.0</td>\n",
       "      <td>25-03-2011</td>\n",
       "      <td>1807545.43</td>\n",
       "      <td>0.0</td>\n",
       "      <td>42.38</td>\n",
       "      <td>3.435</td>\n",
       "      <td>128.616064</td>\n",
       "      <td>7.470</td>\n",
       "    </tr>\n",
       "    <tr>\n",
       "      <th>2</th>\n",
       "      <td>17.0</td>\n",
       "      <td>27-07-2012</td>\n",
       "      <td>NaN</td>\n",
       "      <td>0.0</td>\n",
       "      <td>NaN</td>\n",
       "      <td>NaN</td>\n",
       "      <td>130.719581</td>\n",
       "      <td>5.936</td>\n",
       "    </tr>\n",
       "    <tr>\n",
       "      <th>3</th>\n",
       "      <td>11.0</td>\n",
       "      <td>NaN</td>\n",
       "      <td>1244390.03</td>\n",
       "      <td>0.0</td>\n",
       "      <td>84.57</td>\n",
       "      <td>NaN</td>\n",
       "      <td>214.556497</td>\n",
       "      <td>7.346</td>\n",
       "    </tr>\n",
       "    <tr>\n",
       "      <th>4</th>\n",
       "      <td>6.0</td>\n",
       "      <td>28-05-2010</td>\n",
       "      <td>1644470.66</td>\n",
       "      <td>0.0</td>\n",
       "      <td>78.89</td>\n",
       "      <td>2.759</td>\n",
       "      <td>212.412888</td>\n",
       "      <td>7.092</td>\n",
       "    </tr>\n",
       "  </tbody>\n",
       "</table>\n",
       "</div>"
      ],
      "text/plain": [
       "   Store        Date  Weekly_Sales  Holiday_Flag  Temperature  Fuel_Price  \\\n",
       "0    6.0  18-02-2011    1572117.54           NaN        59.61       3.045   \n",
       "1   13.0  25-03-2011    1807545.43           0.0        42.38       3.435   \n",
       "2   17.0  27-07-2012           NaN           0.0          NaN         NaN   \n",
       "3   11.0         NaN    1244390.03           0.0        84.57         NaN   \n",
       "4    6.0  28-05-2010    1644470.66           0.0        78.89       2.759   \n",
       "\n",
       "          CPI  Unemployment  \n",
       "0  214.777523         6.858  \n",
       "1  128.616064         7.470  \n",
       "2  130.719581         5.936  \n",
       "3  214.556497         7.346  \n",
       "4  212.412888         7.092  "
      ]
     },
     "metadata": {},
     "output_type": "display_data"
    },
    {
     "name": "stdout",
     "output_type": "stream",
     "text": [
      "\n"
     ]
    }
   ],
   "source": [
    "# preview of the da dataframe\n",
    "print(\"Display of store sales dataset: \")\n",
    "display(df_store_sales.head())\n",
    "print()"
   ]
  },
  {
   "cell_type": "code",
   "execution_count": 4,
   "id": "9ec6df21",
   "metadata": {},
   "outputs": [
    {
     "name": "stdout",
     "output_type": "stream",
     "text": [
      "the number of rows in the original weekly sales dataset is: 150\n",
      "\n"
     ]
    }
   ],
   "source": [
    "# number of rows in original weekly sales dataset\n",
    "print(\"the number of rows in the original weekly sales dataset is: {}\".format(len(df_store_sales[\"Weekly_Sales\"])))\n",
    "print()"
   ]
  },
  {
   "cell_type": "code",
   "execution_count": 5,
   "id": "b63df754-4fc5-44d7-b72b-2eb94da9e9df",
   "metadata": {},
   "outputs": [
    {
     "name": "stdout",
     "output_type": "stream",
     "text": [
      "Basics statistics: \n"
     ]
    },
    {
     "data": {
      "text/html": [
       "<div>\n",
       "<style scoped>\n",
       "    .dataframe tbody tr th:only-of-type {\n",
       "        vertical-align: middle;\n",
       "    }\n",
       "\n",
       "    .dataframe tbody tr th {\n",
       "        vertical-align: top;\n",
       "    }\n",
       "\n",
       "    .dataframe thead th {\n",
       "        text-align: right;\n",
       "    }\n",
       "</style>\n",
       "<table border=\"1\" class=\"dataframe\">\n",
       "  <thead>\n",
       "    <tr style=\"text-align: right;\">\n",
       "      <th></th>\n",
       "      <th>Store</th>\n",
       "      <th>Date</th>\n",
       "      <th>Weekly_Sales</th>\n",
       "      <th>Holiday_Flag</th>\n",
       "      <th>Temperature</th>\n",
       "      <th>Fuel_Price</th>\n",
       "      <th>CPI</th>\n",
       "      <th>Unemployment</th>\n",
       "    </tr>\n",
       "  </thead>\n",
       "  <tbody>\n",
       "    <tr>\n",
       "      <th>count</th>\n",
       "      <td>150.000000</td>\n",
       "      <td>132</td>\n",
       "      <td>1.360000e+02</td>\n",
       "      <td>138.000000</td>\n",
       "      <td>132.000000</td>\n",
       "      <td>136.000000</td>\n",
       "      <td>138.000000</td>\n",
       "      <td>135.000000</td>\n",
       "    </tr>\n",
       "    <tr>\n",
       "      <th>unique</th>\n",
       "      <td>NaN</td>\n",
       "      <td>85</td>\n",
       "      <td>NaN</td>\n",
       "      <td>NaN</td>\n",
       "      <td>NaN</td>\n",
       "      <td>NaN</td>\n",
       "      <td>NaN</td>\n",
       "      <td>NaN</td>\n",
       "    </tr>\n",
       "    <tr>\n",
       "      <th>top</th>\n",
       "      <td>NaN</td>\n",
       "      <td>19-10-2012</td>\n",
       "      <td>NaN</td>\n",
       "      <td>NaN</td>\n",
       "      <td>NaN</td>\n",
       "      <td>NaN</td>\n",
       "      <td>NaN</td>\n",
       "      <td>NaN</td>\n",
       "    </tr>\n",
       "    <tr>\n",
       "      <th>freq</th>\n",
       "      <td>NaN</td>\n",
       "      <td>4</td>\n",
       "      <td>NaN</td>\n",
       "      <td>NaN</td>\n",
       "      <td>NaN</td>\n",
       "      <td>NaN</td>\n",
       "      <td>NaN</td>\n",
       "      <td>NaN</td>\n",
       "    </tr>\n",
       "    <tr>\n",
       "      <th>mean</th>\n",
       "      <td>9.866667</td>\n",
       "      <td>NaN</td>\n",
       "      <td>1.249536e+06</td>\n",
       "      <td>0.079710</td>\n",
       "      <td>61.398106</td>\n",
       "      <td>3.320853</td>\n",
       "      <td>179.898509</td>\n",
       "      <td>7.598430</td>\n",
       "    </tr>\n",
       "    <tr>\n",
       "      <th>std</th>\n",
       "      <td>6.231191</td>\n",
       "      <td>NaN</td>\n",
       "      <td>6.474630e+05</td>\n",
       "      <td>0.271831</td>\n",
       "      <td>18.378901</td>\n",
       "      <td>0.478149</td>\n",
       "      <td>40.274956</td>\n",
       "      <td>1.577173</td>\n",
       "    </tr>\n",
       "    <tr>\n",
       "      <th>min</th>\n",
       "      <td>1.000000</td>\n",
       "      <td>NaN</td>\n",
       "      <td>2.689290e+05</td>\n",
       "      <td>0.000000</td>\n",
       "      <td>18.790000</td>\n",
       "      <td>2.514000</td>\n",
       "      <td>126.111903</td>\n",
       "      <td>5.143000</td>\n",
       "    </tr>\n",
       "    <tr>\n",
       "      <th>25%</th>\n",
       "      <td>4.000000</td>\n",
       "      <td>NaN</td>\n",
       "      <td>6.050757e+05</td>\n",
       "      <td>0.000000</td>\n",
       "      <td>45.587500</td>\n",
       "      <td>2.852250</td>\n",
       "      <td>131.970831</td>\n",
       "      <td>6.597500</td>\n",
       "    </tr>\n",
       "    <tr>\n",
       "      <th>50%</th>\n",
       "      <td>9.000000</td>\n",
       "      <td>NaN</td>\n",
       "      <td>1.261424e+06</td>\n",
       "      <td>0.000000</td>\n",
       "      <td>62.985000</td>\n",
       "      <td>3.451000</td>\n",
       "      <td>197.908893</td>\n",
       "      <td>7.470000</td>\n",
       "    </tr>\n",
       "    <tr>\n",
       "      <th>75%</th>\n",
       "      <td>15.750000</td>\n",
       "      <td>NaN</td>\n",
       "      <td>1.806386e+06</td>\n",
       "      <td>0.000000</td>\n",
       "      <td>76.345000</td>\n",
       "      <td>3.706250</td>\n",
       "      <td>214.934616</td>\n",
       "      <td>8.150000</td>\n",
       "    </tr>\n",
       "    <tr>\n",
       "      <th>max</th>\n",
       "      <td>20.000000</td>\n",
       "      <td>NaN</td>\n",
       "      <td>2.771397e+06</td>\n",
       "      <td>1.000000</td>\n",
       "      <td>91.650000</td>\n",
       "      <td>4.193000</td>\n",
       "      <td>226.968844</td>\n",
       "      <td>14.313000</td>\n",
       "    </tr>\n",
       "  </tbody>\n",
       "</table>\n",
       "</div>"
      ],
      "text/plain": [
       "             Store        Date  Weekly_Sales  Holiday_Flag  Temperature  \\\n",
       "count   150.000000         132  1.360000e+02    138.000000   132.000000   \n",
       "unique         NaN          85           NaN           NaN          NaN   \n",
       "top            NaN  19-10-2012           NaN           NaN          NaN   \n",
       "freq           NaN           4           NaN           NaN          NaN   \n",
       "mean      9.866667         NaN  1.249536e+06      0.079710    61.398106   \n",
       "std       6.231191         NaN  6.474630e+05      0.271831    18.378901   \n",
       "min       1.000000         NaN  2.689290e+05      0.000000    18.790000   \n",
       "25%       4.000000         NaN  6.050757e+05      0.000000    45.587500   \n",
       "50%       9.000000         NaN  1.261424e+06      0.000000    62.985000   \n",
       "75%      15.750000         NaN  1.806386e+06      0.000000    76.345000   \n",
       "max      20.000000         NaN  2.771397e+06      1.000000    91.650000   \n",
       "\n",
       "        Fuel_Price         CPI  Unemployment  \n",
       "count   136.000000  138.000000    135.000000  \n",
       "unique         NaN         NaN           NaN  \n",
       "top            NaN         NaN           NaN  \n",
       "freq           NaN         NaN           NaN  \n",
       "mean      3.320853  179.898509      7.598430  \n",
       "std       0.478149   40.274956      1.577173  \n",
       "min       2.514000  126.111903      5.143000  \n",
       "25%       2.852250  131.970831      6.597500  \n",
       "50%       3.451000  197.908893      7.470000  \n",
       "75%       3.706250  214.934616      8.150000  \n",
       "max       4.193000  226.968844     14.313000  "
      ]
     },
     "metadata": {},
     "output_type": "display_data"
    },
    {
     "name": "stdout",
     "output_type": "stream",
     "text": [
      "\n",
      "number of missing values: \n",
      "Store            0\n",
      "Date            18\n",
      "Weekly_Sales    14\n",
      "Holiday_Flag    12\n",
      "Temperature     18\n",
      "Fuel_Price      14\n",
      "CPI             12\n",
      "Unemployment    15\n",
      "dtype: int64\n",
      "\n",
      "Percentage of missing values: \n"
     ]
    },
    {
     "data": {
      "text/plain": [
       "Store            0.000000\n",
       "Date            12.000000\n",
       "Weekly_Sales     9.333333\n",
       "Holiday_Flag     8.000000\n",
       "Temperature     12.000000\n",
       "Fuel_Price       9.333333\n",
       "CPI              8.000000\n",
       "Unemployment    10.000000\n",
       "dtype: float64"
      ]
     },
     "metadata": {},
     "output_type": "display_data"
    }
   ],
   "source": [
    "# Basic stats about store_sales\n",
    "print(\"Basics statistics: \")\n",
    "data_desc = df_store_sales.describe(include='all')\n",
    "display(data_desc)\n",
    "print()\n",
    "\n",
    "print(\"number of missing values: \")\n",
    "print(df_store_sales.isnull().sum())\n",
    "print()\n",
    "\n",
    "print(\"Percentage of missing values: \")\n",
    "display(100*df_store_sales.isnull().sum()/df_store_sales.shape[0])\n",
    "\n"
   ]
  },
  {
   "cell_type": "code",
   "execution_count": null,
   "id": "45c28c4c",
   "metadata": {},
   "outputs": [],
   "source": []
  },
  {
   "cell_type": "markdown",
   "id": "38df35b1",
   "metadata": {},
   "source": [
    "### VISUALIZATIONS"
   ]
  },
  {
   "cell_type": "code",
   "execution_count": 6,
   "id": "76044102",
   "metadata": {},
   "outputs": [],
   "source": [
    "#!pip install plotly -q\n",
    "import seaborn as sns\n",
    "import matplotlib.pyplot as plt\n",
    "import plotly.express as px\n",
    "import plotly.graph_objects as go\n",
    "import plotly.io as pio"
   ]
  },
  {
   "cell_type": "code",
   "execution_count": 7,
   "id": "da363778",
   "metadata": {},
   "outputs": [
    {
     "data": {
      "text/plain": [
       "<AxesSubplot:xlabel='Store', ylabel='Weekly_Sales'>"
      ]
     },
     "execution_count": 7,
     "metadata": {},
     "output_type": "execute_result"
    },
    {
     "data": {
      "image/png": "[encoded data removed]",
      "text/plain": [
       "<Figure size 1008x432 with 1 Axes>"
      ]
     },
     "metadata": {
      "needs_background": "light"
     },
     "output_type": "display_data"
    }
   ],
   "source": [
    "from matplotlib import rcParams\n",
    "# figure size in inches\n",
    "rcParams['figure.figsize'] = 14,6\n",
    "\n",
    "#visualize relation between Store and  weekly sales\n",
    "sns.barplot(data=df_store_sales, x = 'Store' , y = 'Weekly_Sales') #some stores seems to have better weekly sales"
   ]
  },
  {
   "cell_type": "code",
   "execution_count": 9,
   "id": "3fdc4a73",
   "metadata": {},
   "outputs": [
    {
     "data": {
      "text/plain": [
       "0.0    127\n",
       "1.0     11\n",
       "Name: Holiday_Flag, dtype: int64"
      ]
     },
     "execution_count": 9,
     "metadata": {},
     "output_type": "execute_result"
    }
   ],
   "source": [
    "#holidays flag distribution\n",
    "df_store_sales.Holiday_Flag.value_counts()"
   ]
  },
  {
   "cell_type": "code",
   "execution_count": 8,
   "id": "9694f222",
   "metadata": {},
   "outputs": [
    {
     "data": {
      "text/plain": [
       "<AxesSubplot:xlabel='Holiday_Flag', ylabel='Weekly_Sales'>"
      ]
     },
     "execution_count": 8,
     "metadata": {},
     "output_type": "execute_result"
    },
    {
     "data": {
      "image/png": "[encoded data removed]",
      "text/plain": [
       "<Figure size 1008x432 with 1 Axes>"
      ]
     },
     "metadata": {
      "needs_background": "light"
     },
     "output_type": "display_data"
    }
   ],
   "source": [
    "#visualize relation between Holiday_Flag and  weekly sales\n",
    "sns.barplot(data=df_store_sales, x = 'Holiday_Flag' , y = 'Weekly_Sales')\n",
    "#holidayflag has only 2 values (0 and 1) and the main data have holidayflag=0.0"
   ]
  },
  {
   "cell_type": "code",
   "execution_count": 14,
   "id": "40f87072",
   "metadata": {},
   "outputs": [
    {
     "data": {
      "text/plain": [
       "<seaborn.axisgrid.FacetGrid at 0x157ce9c1d30>"
      ]
     },
     "execution_count": 14,
     "metadata": {},
     "output_type": "execute_result"
    },
    {
     "data": {
      "image/png": "[encoded data removed]",
      "text/plain": [
       "<Figure size 360x360 with 1 Axes>"
      ]
     },
     "metadata": {
      "needs_background": "light"
     },
     "output_type": "display_data"
    }
   ],
   "source": [
    "#visualize relation between Temperature and  weekly sales\n",
    "sns.relplot(data = df_store_sales, x = 'Temperature' , y = 'Weekly_Sales')"
   ]
  },
  {
   "cell_type": "code",
   "execution_count": 10,
   "id": "ecc51868",
   "metadata": {},
   "outputs": [
    {
     "data": {
      "text/plain": [
       "<seaborn.axisgrid.FacetGrid at 0x1d45ea5b610>"
      ]
     },
     "execution_count": 10,
     "metadata": {},
     "output_type": "execute_result"
    },
    {
     "data": {
      "image/png": "[encoded data removed]",
      "text/plain": [
       "<Figure size 360x360 with 1 Axes>"
      ]
     },
     "metadata": {
      "needs_background": "light"
     },
     "output_type": "display_data"
    }
   ],
   "source": [
    "#visualize relation between Fuel_Price and  weekly sales\n",
    "sns.relplot(data = df_store_sales, x = 'Fuel_Price' , y = 'Weekly_Sales')"
   ]
  },
  {
   "cell_type": "code",
   "execution_count": 11,
   "id": "8dad1797",
   "metadata": {},
   "outputs": [
    {
     "data": {
      "text/plain": [
       "<seaborn.axisgrid.FacetGrid at 0x1d45eece490>"
      ]
     },
     "execution_count": 11,
     "metadata": {},
     "output_type": "execute_result"
    },
    {
     "data": {
      "image/png": "[encoded data removed]",
      "text/plain": [
       "<Figure size 360x360 with 1 Axes>"
      ]
     },
     "metadata": {
      "needs_background": "light"
     },
     "output_type": "display_data"
    }
   ],
   "source": [
    "#visualize relation between CPI and  weekly sales\n",
    "sns.relplot(data = df_store_sales, x = 'CPI' , y = 'Weekly_Sales')"
   ]
  },
  {
   "cell_type": "code",
   "execution_count": 12,
   "id": "82bf31bc",
   "metadata": {},
   "outputs": [
    {
     "data": {
      "text/plain": [
       "<seaborn.axisgrid.FacetGrid at 0x1d45ea62880>"
      ]
     },
     "execution_count": 12,
     "metadata": {},
     "output_type": "execute_result"
    },
    {
     "data": {
      "image/png": "[encoded data removed]",
      "text/plain": [
       "<Figure size 360x360 with 1 Axes>"
      ]
     },
     "metadata": {
      "needs_background": "light"
     },
     "output_type": "display_data"
    }
   ],
   "source": [
    "#visualize relation between unemployment and  weekly sales\n",
    "sns.relplot(data = df_store_sales, x = 'Unemployment' , y = 'Weekly_Sales')\n",
    "#we can see that there is some outliers -> (Unemployment > 13)"
   ]
  },
  {
   "cell_type": "code",
   "execution_count": 13,
   "id": "204e63b1",
   "metadata": {},
   "outputs": [
    {
     "name": "stderr",
     "output_type": "stream",
     "text": [
      "C:\\Users\\Lenovo\\anaconda3\\lib\\site-packages\\seaborn\\distributions.py:2619: FutureWarning: `distplot` is a deprecated function and will be removed in a future version. Please adapt your code to use either `displot` (a figure-level function with similar flexibility) or `histplot` (an axes-level function for histograms).\n",
      "  warnings.warn(msg, FutureWarning)\n"
     ]
    },
    {
     "data": {
      "text/plain": [
       "<AxesSubplot:xlabel='Weekly_Sales', ylabel='Density'>"
      ]
     },
     "execution_count": 13,
     "metadata": {},
     "output_type": "execute_result"
    },
    {
     "data": {
      "image/png": "[encoded data removed]",
      "text/plain": [
       "<Figure size 1008x432 with 1 Axes>"
      ]
     },
     "metadata": {
      "needs_background": "light"
     },
     "output_type": "display_data"
    }
   ],
   "source": [
    "#visualize distribution of target value\n",
    "sns.distplot(df_store_sales['Weekly_Sales'], bins=20)"
   ]
  },
  {
   "cell_type": "markdown",
   "id": "b92cbd61",
   "metadata": {},
   "source": [
    "## 1.2 PREPROCESSING"
   ]
  },
  {
   "cell_type": "code",
   "execution_count": 14,
   "id": "8953cfb7-5478-4a73-80c5-5b3db4ee092e",
   "metadata": {},
   "outputs": [
    {
     "name": "stdout",
     "output_type": "stream",
     "text": [
      "Dropping the lines in the dataset for which the value in Weekly_Sales is missing...\n",
      "\n",
      "Done. Number of lines remaining :  136\n"
     ]
    }
   ],
   "source": [
    "# Drop lines containing missing target value\n",
    "print('Dropping the lines in the dataset for which the value in Weekly_Sales is missing...')\n",
    "print()\n",
    "\n",
    "to_keep = (df_store_sales['Weekly_Sales'].isnull()!=True) # We want keeping positives values or missings\n",
    "df_store_sales = df_store_sales.loc[to_keep,:] \n",
    "\n",
    "print('Done. Number of lines remaining : ', df_store_sales.shape[0])"
   ]
  },
  {
   "cell_type": "code",
   "execution_count": 15,
   "id": "cb6d1d62-2636-4a3e-abfc-ce6369d93d71",
   "metadata": {},
   "outputs": [
    {
     "data": {
      "text/html": [
       "<div>\n",
       "<style scoped>\n",
       "    .dataframe tbody tr th:only-of-type {\n",
       "        vertical-align: middle;\n",
       "    }\n",
       "\n",
       "    .dataframe tbody tr th {\n",
       "        vertical-align: top;\n",
       "    }\n",
       "\n",
       "    .dataframe thead th {\n",
       "        text-align: right;\n",
       "    }\n",
       "</style>\n",
       "<table border=\"1\" class=\"dataframe\">\n",
       "  <thead>\n",
       "    <tr style=\"text-align: right;\">\n",
       "      <th></th>\n",
       "      <th>Store</th>\n",
       "      <th>Date</th>\n",
       "      <th>Weekly_Sales</th>\n",
       "      <th>Holiday_Flag</th>\n",
       "      <th>Temperature</th>\n",
       "      <th>Fuel_Price</th>\n",
       "      <th>CPI</th>\n",
       "      <th>Unemployment</th>\n",
       "    </tr>\n",
       "  </thead>\n",
       "  <tbody>\n",
       "    <tr>\n",
       "      <th>0</th>\n",
       "      <td>6.0</td>\n",
       "      <td>18-02-2011</td>\n",
       "      <td>1572117.54</td>\n",
       "      <td>NaN</td>\n",
       "      <td>59.61</td>\n",
       "      <td>3.045</td>\n",
       "      <td>214.777523</td>\n",
       "      <td>6.858</td>\n",
       "    </tr>\n",
       "    <tr>\n",
       "      <th>1</th>\n",
       "      <td>13.0</td>\n",
       "      <td>25-03-2011</td>\n",
       "      <td>1807545.43</td>\n",
       "      <td>0.0</td>\n",
       "      <td>42.38</td>\n",
       "      <td>3.435</td>\n",
       "      <td>128.616064</td>\n",
       "      <td>7.470</td>\n",
       "    </tr>\n",
       "    <tr>\n",
       "      <th>3</th>\n",
       "      <td>11.0</td>\n",
       "      <td>NaN</td>\n",
       "      <td>1244390.03</td>\n",
       "      <td>0.0</td>\n",
       "      <td>84.57</td>\n",
       "      <td>NaN</td>\n",
       "      <td>214.556497</td>\n",
       "      <td>7.346</td>\n",
       "    </tr>\n",
       "    <tr>\n",
       "      <th>4</th>\n",
       "      <td>6.0</td>\n",
       "      <td>28-05-2010</td>\n",
       "      <td>1644470.66</td>\n",
       "      <td>0.0</td>\n",
       "      <td>78.89</td>\n",
       "      <td>2.759</td>\n",
       "      <td>212.412888</td>\n",
       "      <td>7.092</td>\n",
       "    </tr>\n",
       "    <tr>\n",
       "      <th>5</th>\n",
       "      <td>4.0</td>\n",
       "      <td>28-05-2010</td>\n",
       "      <td>1857533.70</td>\n",
       "      <td>0.0</td>\n",
       "      <td>NaN</td>\n",
       "      <td>2.756</td>\n",
       "      <td>126.160226</td>\n",
       "      <td>7.896</td>\n",
       "    </tr>\n",
       "  </tbody>\n",
       "</table>\n",
       "</div>"
      ],
      "text/plain": [
       "   Store        Date  Weekly_Sales  Holiday_Flag  Temperature  Fuel_Price  \\\n",
       "0    6.0  18-02-2011    1572117.54           NaN        59.61       3.045   \n",
       "1   13.0  25-03-2011    1807545.43           0.0        42.38       3.435   \n",
       "3   11.0         NaN    1244390.03           0.0        84.57         NaN   \n",
       "4    6.0  28-05-2010    1644470.66           0.0        78.89       2.759   \n",
       "5    4.0  28-05-2010    1857533.70           0.0          NaN       2.756   \n",
       "\n",
       "          CPI  Unemployment  \n",
       "0  214.777523         6.858  \n",
       "1  128.616064         7.470  \n",
       "3  214.556497         7.346  \n",
       "4  212.412888         7.092  \n",
       "5  126.160226         7.896  "
      ]
     },
     "execution_count": 15,
     "metadata": {},
     "output_type": "execute_result"
    }
   ],
   "source": [
    "df_store_sales.head()"
   ]
  },
  {
   "cell_type": "code",
   "execution_count": 16,
   "id": "de383506-c797-4863-a1c4-92e3b82dd5f0",
   "metadata": {},
   "outputs": [
    {
     "name": "stdout",
     "output_type": "stream",
     "text": [
      "Percentage of missing values after dropping messing weekly sales rows : \n"
     ]
    },
    {
     "data": {
      "text/plain": [
       "Store            0.000000\n",
       "Date            13.235294\n",
       "Weekly_Sales     0.000000\n",
       "Holiday_Flag     8.088235\n",
       "Temperature     11.029412\n",
       "Fuel_Price       8.823529\n",
       "CPI              8.088235\n",
       "Unemployment    10.294118\n",
       "dtype: float64"
      ]
     },
     "metadata": {},
     "output_type": "display_data"
    }
   ],
   "source": [
    "print(\"Percentage of missing values after dropping messing weekly sales rows : \")\n",
    "display(100*df_store_sales.isnull().sum()/df_store_sales.shape[0])"
   ]
  },
  {
   "cell_type": "code",
   "execution_count": 17,
   "id": "eeb203d8-f642-46a8-a59a-3cebea1a34c6",
   "metadata": {},
   "outputs": [
    {
     "data": {
      "text/plain": [
       "19-10-2012    3\n",
       "18-06-2010    3\n",
       "25-03-2011    3\n",
       "12-11-2010    3\n",
       "16-03-2012    3\n",
       "             ..\n",
       "17-02-2012    1\n",
       "02-03-2012    1\n",
       "06-08-2010    1\n",
       "05-02-2010    1\n",
       "11-06-2010    1\n",
       "Name: Date, Length: 79, dtype: int64"
      ]
     },
     "execution_count": 17,
     "metadata": {},
     "output_type": "execute_result"
    }
   ],
   "source": [
    "df_store_sales['Date'].value_counts()"
   ]
  },
  {
   "cell_type": "code",
   "execution_count": 18,
   "id": "36fcde92-cbb6-4e91-b283-979883e396b8",
   "metadata": {},
   "outputs": [],
   "source": [
    "from datetime import datetime"
   ]
  },
  {
   "cell_type": "code",
   "execution_count": 19,
   "id": "671df51f-cda8-4a1c-8466-d1378f60f8ce",
   "metadata": {},
   "outputs": [],
   "source": [
    "df_store_sales['Date']=df_store_sales['Date'].fillna('19-10-2012')"
   ]
  },
  {
   "cell_type": "code",
   "execution_count": 20,
   "id": "3c2bb91c-61e5-4eea-8f76-dff32e9d1f86",
   "metadata": {},
   "outputs": [
    {
     "data": {
      "text/html": [
       "<div>\n",
       "<style scoped>\n",
       "    .dataframe tbody tr th:only-of-type {\n",
       "        vertical-align: middle;\n",
       "    }\n",
       "\n",
       "    .dataframe tbody tr th {\n",
       "        vertical-align: top;\n",
       "    }\n",
       "\n",
       "    .dataframe thead th {\n",
       "        text-align: right;\n",
       "    }\n",
       "</style>\n",
       "<table border=\"1\" class=\"dataframe\">\n",
       "  <thead>\n",
       "    <tr style=\"text-align: right;\">\n",
       "      <th></th>\n",
       "      <th>Store</th>\n",
       "      <th>Date</th>\n",
       "      <th>Weekly_Sales</th>\n",
       "      <th>Holiday_Flag</th>\n",
       "      <th>Temperature</th>\n",
       "      <th>Fuel_Price</th>\n",
       "      <th>CPI</th>\n",
       "      <th>Unemployment</th>\n",
       "    </tr>\n",
       "  </thead>\n",
       "  <tbody>\n",
       "    <tr>\n",
       "      <th>0</th>\n",
       "      <td>6.0</td>\n",
       "      <td>18-02-2011</td>\n",
       "      <td>1572117.54</td>\n",
       "      <td>NaN</td>\n",
       "      <td>59.61</td>\n",
       "      <td>3.045</td>\n",
       "      <td>214.777523</td>\n",
       "      <td>6.858</td>\n",
       "    </tr>\n",
       "    <tr>\n",
       "      <th>1</th>\n",
       "      <td>13.0</td>\n",
       "      <td>25-03-2011</td>\n",
       "      <td>1807545.43</td>\n",
       "      <td>0.0</td>\n",
       "      <td>42.38</td>\n",
       "      <td>3.435</td>\n",
       "      <td>128.616064</td>\n",
       "      <td>7.470</td>\n",
       "    </tr>\n",
       "    <tr>\n",
       "      <th>3</th>\n",
       "      <td>11.0</td>\n",
       "      <td>19-10-2012</td>\n",
       "      <td>1244390.03</td>\n",
       "      <td>0.0</td>\n",
       "      <td>84.57</td>\n",
       "      <td>NaN</td>\n",
       "      <td>214.556497</td>\n",
       "      <td>7.346</td>\n",
       "    </tr>\n",
       "    <tr>\n",
       "      <th>4</th>\n",
       "      <td>6.0</td>\n",
       "      <td>28-05-2010</td>\n",
       "      <td>1644470.66</td>\n",
       "      <td>0.0</td>\n",
       "      <td>78.89</td>\n",
       "      <td>2.759</td>\n",
       "      <td>212.412888</td>\n",
       "      <td>7.092</td>\n",
       "    </tr>\n",
       "    <tr>\n",
       "      <th>5</th>\n",
       "      <td>4.0</td>\n",
       "      <td>28-05-2010</td>\n",
       "      <td>1857533.70</td>\n",
       "      <td>0.0</td>\n",
       "      <td>NaN</td>\n",
       "      <td>2.756</td>\n",
       "      <td>126.160226</td>\n",
       "      <td>7.896</td>\n",
       "    </tr>\n",
       "  </tbody>\n",
       "</table>\n",
       "</div>"
      ],
      "text/plain": [
       "   Store        Date  Weekly_Sales  Holiday_Flag  Temperature  Fuel_Price  \\\n",
       "0    6.0  18-02-2011    1572117.54           NaN        59.61       3.045   \n",
       "1   13.0  25-03-2011    1807545.43           0.0        42.38       3.435   \n",
       "3   11.0  19-10-2012    1244390.03           0.0        84.57         NaN   \n",
       "4    6.0  28-05-2010    1644470.66           0.0        78.89       2.759   \n",
       "5    4.0  28-05-2010    1857533.70           0.0          NaN       2.756   \n",
       "\n",
       "          CPI  Unemployment  \n",
       "0  214.777523         6.858  \n",
       "1  128.616064         7.470  \n",
       "3  214.556497         7.346  \n",
       "4  212.412888         7.092  \n",
       "5  126.160226         7.896  "
      ]
     },
     "execution_count": 20,
     "metadata": {},
     "output_type": "execute_result"
    }
   ],
   "source": [
    "df_store_sales.head()"
   ]
  },
  {
   "cell_type": "code",
   "execution_count": 21,
   "id": "2836b08b-1781-40c6-a8c6-da3255ee3782",
   "metadata": {},
   "outputs": [],
   "source": [
    "#convert Date to datetime\n",
    "df_store_sales['Date']=[datetime.strptime(str(x), '%d-%m-%Y') for x in df_store_sales['Date']]\n"
   ]
  },
  {
   "cell_type": "code",
   "execution_count": 22,
   "id": "4f9dd2d5-9573-4e0e-b717-6f587895c2ee",
   "metadata": {},
   "outputs": [
    {
     "data": {
      "text/html": [
       "<div>\n",
       "<style scoped>\n",
       "    .dataframe tbody tr th:only-of-type {\n",
       "        vertical-align: middle;\n",
       "    }\n",
       "\n",
       "    .dataframe tbody tr th {\n",
       "        vertical-align: top;\n",
       "    }\n",
       "\n",
       "    .dataframe thead th {\n",
       "        text-align: right;\n",
       "    }\n",
       "</style>\n",
       "<table border=\"1\" class=\"dataframe\">\n",
       "  <thead>\n",
       "    <tr style=\"text-align: right;\">\n",
       "      <th></th>\n",
       "      <th>Store</th>\n",
       "      <th>Weekly_Sales</th>\n",
       "      <th>Holiday_Flag</th>\n",
       "      <th>Temperature</th>\n",
       "      <th>Fuel_Price</th>\n",
       "      <th>CPI</th>\n",
       "      <th>Unemployment</th>\n",
       "      <th>day</th>\n",
       "      <th>month</th>\n",
       "      <th>year</th>\n",
       "      <th>weekday</th>\n",
       "    </tr>\n",
       "  </thead>\n",
       "  <tbody>\n",
       "    <tr>\n",
       "      <th>0</th>\n",
       "      <td>6.0</td>\n",
       "      <td>1572117.54</td>\n",
       "      <td>NaN</td>\n",
       "      <td>59.61</td>\n",
       "      <td>3.045</td>\n",
       "      <td>214.777523</td>\n",
       "      <td>6.858</td>\n",
       "      <td>18</td>\n",
       "      <td>2</td>\n",
       "      <td>2011</td>\n",
       "      <td>4</td>\n",
       "    </tr>\n",
       "    <tr>\n",
       "      <th>1</th>\n",
       "      <td>13.0</td>\n",
       "      <td>1807545.43</td>\n",
       "      <td>0.0</td>\n",
       "      <td>42.38</td>\n",
       "      <td>3.435</td>\n",
       "      <td>128.616064</td>\n",
       "      <td>7.470</td>\n",
       "      <td>25</td>\n",
       "      <td>3</td>\n",
       "      <td>2011</td>\n",
       "      <td>4</td>\n",
       "    </tr>\n",
       "    <tr>\n",
       "      <th>3</th>\n",
       "      <td>11.0</td>\n",
       "      <td>1244390.03</td>\n",
       "      <td>0.0</td>\n",
       "      <td>84.57</td>\n",
       "      <td>NaN</td>\n",
       "      <td>214.556497</td>\n",
       "      <td>7.346</td>\n",
       "      <td>19</td>\n",
       "      <td>10</td>\n",
       "      <td>2012</td>\n",
       "      <td>4</td>\n",
       "    </tr>\n",
       "    <tr>\n",
       "      <th>4</th>\n",
       "      <td>6.0</td>\n",
       "      <td>1644470.66</td>\n",
       "      <td>0.0</td>\n",
       "      <td>78.89</td>\n",
       "      <td>2.759</td>\n",
       "      <td>212.412888</td>\n",
       "      <td>7.092</td>\n",
       "      <td>28</td>\n",
       "      <td>5</td>\n",
       "      <td>2010</td>\n",
       "      <td>4</td>\n",
       "    </tr>\n",
       "    <tr>\n",
       "      <th>5</th>\n",
       "      <td>4.0</td>\n",
       "      <td>1857533.70</td>\n",
       "      <td>0.0</td>\n",
       "      <td>NaN</td>\n",
       "      <td>2.756</td>\n",
       "      <td>126.160226</td>\n",
       "      <td>7.896</td>\n",
       "      <td>28</td>\n",
       "      <td>5</td>\n",
       "      <td>2010</td>\n",
       "      <td>4</td>\n",
       "    </tr>\n",
       "  </tbody>\n",
       "</table>\n",
       "</div>"
      ],
      "text/plain": [
       "   Store  Weekly_Sales  Holiday_Flag  Temperature  Fuel_Price         CPI  \\\n",
       "0    6.0    1572117.54           NaN        59.61       3.045  214.777523   \n",
       "1   13.0    1807545.43           0.0        42.38       3.435  128.616064   \n",
       "3   11.0    1244390.03           0.0        84.57         NaN  214.556497   \n",
       "4    6.0    1644470.66           0.0        78.89       2.759  212.412888   \n",
       "5    4.0    1857533.70           0.0          NaN       2.756  126.160226   \n",
       "\n",
       "   Unemployment  day  month  year  weekday  \n",
       "0         6.858   18      2  2011        4  \n",
       "1         7.470   25      3  2011        4  \n",
       "3         7.346   19     10  2012        4  \n",
       "4         7.092   28      5  2010        4  \n",
       "5         7.896   28      5  2010        4  "
      ]
     },
     "execution_count": 22,
     "metadata": {},
     "output_type": "execute_result"
    }
   ],
   "source": [
    "#add column day, month, year and weeklyday \n",
    "\n",
    "df_store_sales['day']= [x.day for x in df_store_sales['Date']]\n",
    "df_store_sales['month']= [x.month for x in df_store_sales['Date']]\n",
    "df_store_sales['year']= [x.year for x in df_store_sales['Date']]\n",
    "df_store_sales['weekday']= [x.weekday() for x in df_store_sales['Date']]\n",
    "df_store_sales.drop(columns='Date', inplace=True)\n",
    "\n",
    "\n",
    "df_store_sales.head()"
   ]
  },
  {
   "cell_type": "code",
   "execution_count": 23,
   "id": "dd070c11-4bf7-47f7-a635-7f9ac41cf927",
   "metadata": {},
   "outputs": [
    {
     "data": {
      "text/plain": [
       "array([4], dtype=int64)"
      ]
     },
     "execution_count": 23,
     "metadata": {},
     "output_type": "execute_result"
    }
   ],
   "source": [
    "#unique value in weekday\n",
    "df_store_sales.weekday.unique() #weekday column have a unique value 4 = Friday so we can delete it"
   ]
  },
  {
   "cell_type": "code",
   "execution_count": 24,
   "id": "43efca4d",
   "metadata": {},
   "outputs": [
    {
     "data": {
      "text/html": [
       "<div>\n",
       "<style scoped>\n",
       "    .dataframe tbody tr th:only-of-type {\n",
       "        vertical-align: middle;\n",
       "    }\n",
       "\n",
       "    .dataframe tbody tr th {\n",
       "        vertical-align: top;\n",
       "    }\n",
       "\n",
       "    .dataframe thead th {\n",
       "        text-align: right;\n",
       "    }\n",
       "</style>\n",
       "<table border=\"1\" class=\"dataframe\">\n",
       "  <thead>\n",
       "    <tr style=\"text-align: right;\">\n",
       "      <th></th>\n",
       "      <th>Store</th>\n",
       "      <th>Weekly_Sales</th>\n",
       "      <th>Holiday_Flag</th>\n",
       "      <th>Temperature</th>\n",
       "      <th>Fuel_Price</th>\n",
       "      <th>CPI</th>\n",
       "      <th>Unemployment</th>\n",
       "      <th>day</th>\n",
       "      <th>month</th>\n",
       "      <th>year</th>\n",
       "    </tr>\n",
       "  </thead>\n",
       "  <tbody>\n",
       "    <tr>\n",
       "      <th>0</th>\n",
       "      <td>6.0</td>\n",
       "      <td>1572117.54</td>\n",
       "      <td>NaN</td>\n",
       "      <td>59.61</td>\n",
       "      <td>3.045</td>\n",
       "      <td>214.777523</td>\n",
       "      <td>6.858</td>\n",
       "      <td>18</td>\n",
       "      <td>2</td>\n",
       "      <td>2011</td>\n",
       "    </tr>\n",
       "    <tr>\n",
       "      <th>1</th>\n",
       "      <td>13.0</td>\n",
       "      <td>1807545.43</td>\n",
       "      <td>0.0</td>\n",
       "      <td>42.38</td>\n",
       "      <td>3.435</td>\n",
       "      <td>128.616064</td>\n",
       "      <td>7.470</td>\n",
       "      <td>25</td>\n",
       "      <td>3</td>\n",
       "      <td>2011</td>\n",
       "    </tr>\n",
       "    <tr>\n",
       "      <th>3</th>\n",
       "      <td>11.0</td>\n",
       "      <td>1244390.03</td>\n",
       "      <td>0.0</td>\n",
       "      <td>84.57</td>\n",
       "      <td>NaN</td>\n",
       "      <td>214.556497</td>\n",
       "      <td>7.346</td>\n",
       "      <td>19</td>\n",
       "      <td>10</td>\n",
       "      <td>2012</td>\n",
       "    </tr>\n",
       "    <tr>\n",
       "      <th>4</th>\n",
       "      <td>6.0</td>\n",
       "      <td>1644470.66</td>\n",
       "      <td>0.0</td>\n",
       "      <td>78.89</td>\n",
       "      <td>2.759</td>\n",
       "      <td>212.412888</td>\n",
       "      <td>7.092</td>\n",
       "      <td>28</td>\n",
       "      <td>5</td>\n",
       "      <td>2010</td>\n",
       "    </tr>\n",
       "    <tr>\n",
       "      <th>5</th>\n",
       "      <td>4.0</td>\n",
       "      <td>1857533.70</td>\n",
       "      <td>0.0</td>\n",
       "      <td>NaN</td>\n",
       "      <td>2.756</td>\n",
       "      <td>126.160226</td>\n",
       "      <td>7.896</td>\n",
       "      <td>28</td>\n",
       "      <td>5</td>\n",
       "      <td>2010</td>\n",
       "    </tr>\n",
       "  </tbody>\n",
       "</table>\n",
       "</div>"
      ],
      "text/plain": [
       "   Store  Weekly_Sales  Holiday_Flag  Temperature  Fuel_Price         CPI  \\\n",
       "0    6.0    1572117.54           NaN        59.61       3.045  214.777523   \n",
       "1   13.0    1807545.43           0.0        42.38       3.435  128.616064   \n",
       "3   11.0    1244390.03           0.0        84.57         NaN  214.556497   \n",
       "4    6.0    1644470.66           0.0        78.89       2.759  212.412888   \n",
       "5    4.0    1857533.70           0.0          NaN       2.756  126.160226   \n",
       "\n",
       "   Unemployment  day  month  year  \n",
       "0         6.858   18      2  2011  \n",
       "1         7.470   25      3  2011  \n",
       "3         7.346   19     10  2012  \n",
       "4         7.092   28      5  2010  \n",
       "5         7.896   28      5  2010  "
      ]
     },
     "execution_count": 24,
     "metadata": {},
     "output_type": "execute_result"
    }
   ],
   "source": [
    "#drop weekday column\n",
    "df_store_sales.drop('weekday', axis=1, inplace=True)\n",
    "df_store_sales.head()"
   ]
  },
  {
   "cell_type": "markdown",
   "id": "32c7111d",
   "metadata": {},
   "source": [
    "##### LET VISUALIZE WEEKLY_SALE BY DATE"
   ]
  },
  {
   "cell_type": "code",
   "execution_count": 25,
   "id": "9e98d8a1",
   "metadata": {},
   "outputs": [
    {
     "data": {
      "text/plain": [
       "<AxesSubplot:xlabel='day', ylabel='Weekly_Sales'>"
      ]
     },
     "execution_count": 25,
     "metadata": {},
     "output_type": "execute_result"
    },
    {
     "data": {
      "image/png": "[encoded data removed]",
      "text/plain": [
       "<Figure size 1008x432 with 1 Axes>"
      ]
     },
     "metadata": {
      "needs_background": "light"
     },
     "output_type": "display_data"
    }
   ],
   "source": [
    "#visualize relation between day and  weekly sales\n",
    "sns.barplot(data = df_store_sales, x = 'day' , y = 'Weekly_Sales')"
   ]
  },
  {
   "cell_type": "code",
   "execution_count": 26,
   "id": "cb66e294",
   "metadata": {},
   "outputs": [
    {
     "data": {
      "text/plain": [
       "<AxesSubplot:xlabel='month', ylabel='Weekly_Sales'>"
      ]
     },
     "execution_count": 26,
     "metadata": {},
     "output_type": "execute_result"
    },
    {
     "data": {
      "image/png": "[encoded data removed]",
      "text/plain": [
       "<Figure size 720x360 with 1 Axes>"
      ]
     },
     "metadata": {
      "needs_background": "light"
     },
     "output_type": "display_data"
    }
   ],
   "source": [
    "rcParams['figure.figsize'] = 10,5\n",
    "#visualize relation between month and  weekly sales\n",
    "sns.barplot(data = df_store_sales, x = 'month' , y = 'Weekly_Sales') #december seems to have more sales then the other months"
   ]
  },
  {
   "cell_type": "code",
   "execution_count": 27,
   "id": "91c37818",
   "metadata": {},
   "outputs": [
    {
     "data": {
      "text/plain": [
       "<AxesSubplot:xlabel='year', ylabel='Weekly_Sales'>"
      ]
     },
     "execution_count": 27,
     "metadata": {},
     "output_type": "execute_result"
    },
    {
     "data": {
      "image/png": "[encoded data removed]",
      "text/plain": [
       "<Figure size 720x360 with 1 Axes>"
      ]
     },
     "metadata": {
      "needs_background": "light"
     },
     "output_type": "display_data"
    }
   ],
   "source": [
    "#visualize relation between year and  weekly sales\n",
    "sns.barplot(data = df_store_sales, x = 'year' , y = 'Weekly_Sales') "
   ]
  },
  {
   "cell_type": "code",
   "execution_count": 28,
   "id": "84421658-68e9-4af7-ae5f-5ed9aec757ad",
   "metadata": {},
   "outputs": [
    {
     "data": {
      "text/html": [
       "<div>\n",
       "<style scoped>\n",
       "    .dataframe tbody tr th:only-of-type {\n",
       "        vertical-align: middle;\n",
       "    }\n",
       "\n",
       "    .dataframe tbody tr th {\n",
       "        vertical-align: top;\n",
       "    }\n",
       "\n",
       "    .dataframe thead th {\n",
       "        text-align: right;\n",
       "    }\n",
       "</style>\n",
       "<table border=\"1\" class=\"dataframe\">\n",
       "  <thead>\n",
       "    <tr style=\"text-align: right;\">\n",
       "      <th></th>\n",
       "      <th>Store</th>\n",
       "      <th>Weekly_Sales</th>\n",
       "      <th>Holiday_Flag</th>\n",
       "      <th>Temperature_C°</th>\n",
       "      <th>Fuel_Price</th>\n",
       "      <th>CPI</th>\n",
       "      <th>Unemployment</th>\n",
       "      <th>day</th>\n",
       "      <th>month</th>\n",
       "      <th>year</th>\n",
       "    </tr>\n",
       "  </thead>\n",
       "  <tbody>\n",
       "    <tr>\n",
       "      <th>0</th>\n",
       "      <td>6.0</td>\n",
       "      <td>1572117.54</td>\n",
       "      <td>NaN</td>\n",
       "      <td>15.338889</td>\n",
       "      <td>3.045</td>\n",
       "      <td>214.777523</td>\n",
       "      <td>6.858</td>\n",
       "      <td>18</td>\n",
       "      <td>2</td>\n",
       "      <td>2011</td>\n",
       "    </tr>\n",
       "    <tr>\n",
       "      <th>1</th>\n",
       "      <td>13.0</td>\n",
       "      <td>1807545.43</td>\n",
       "      <td>0.0</td>\n",
       "      <td>5.766667</td>\n",
       "      <td>3.435</td>\n",
       "      <td>128.616064</td>\n",
       "      <td>7.470</td>\n",
       "      <td>25</td>\n",
       "      <td>3</td>\n",
       "      <td>2011</td>\n",
       "    </tr>\n",
       "    <tr>\n",
       "      <th>3</th>\n",
       "      <td>11.0</td>\n",
       "      <td>1244390.03</td>\n",
       "      <td>0.0</td>\n",
       "      <td>29.205556</td>\n",
       "      <td>NaN</td>\n",
       "      <td>214.556497</td>\n",
       "      <td>7.346</td>\n",
       "      <td>19</td>\n",
       "      <td>10</td>\n",
       "      <td>2012</td>\n",
       "    </tr>\n",
       "    <tr>\n",
       "      <th>4</th>\n",
       "      <td>6.0</td>\n",
       "      <td>1644470.66</td>\n",
       "      <td>0.0</td>\n",
       "      <td>26.050000</td>\n",
       "      <td>2.759</td>\n",
       "      <td>212.412888</td>\n",
       "      <td>7.092</td>\n",
       "      <td>28</td>\n",
       "      <td>5</td>\n",
       "      <td>2010</td>\n",
       "    </tr>\n",
       "    <tr>\n",
       "      <th>5</th>\n",
       "      <td>4.0</td>\n",
       "      <td>1857533.70</td>\n",
       "      <td>0.0</td>\n",
       "      <td>NaN</td>\n",
       "      <td>2.756</td>\n",
       "      <td>126.160226</td>\n",
       "      <td>7.896</td>\n",
       "      <td>28</td>\n",
       "      <td>5</td>\n",
       "      <td>2010</td>\n",
       "    </tr>\n",
       "  </tbody>\n",
       "</table>\n",
       "</div>"
      ],
      "text/plain": [
       "   Store  Weekly_Sales  Holiday_Flag  Temperature_C°  Fuel_Price         CPI  \\\n",
       "0    6.0    1572117.54           NaN       15.338889       3.045  214.777523   \n",
       "1   13.0    1807545.43           0.0        5.766667       3.435  128.616064   \n",
       "3   11.0    1244390.03           0.0       29.205556         NaN  214.556497   \n",
       "4    6.0    1644470.66           0.0       26.050000       2.759  212.412888   \n",
       "5    4.0    1857533.70           0.0             NaN       2.756  126.160226   \n",
       "\n",
       "   Unemployment  day  month  year  \n",
       "0         6.858   18      2  2011  \n",
       "1         7.470   25      3  2011  \n",
       "3         7.346   19     10  2012  \n",
       "4         7.092   28      5  2010  \n",
       "5         7.896   28      5  2010  "
      ]
     },
     "execution_count": 28,
     "metadata": {},
     "output_type": "execute_result"
    }
   ],
   "source": [
    "#convert temperature from fahrenheit to celsius\n",
    "df_store_sales.Temperature=[(x-32)*(5/9) for x in df_store_sales.Temperature] \n",
    "df_store_sales.rename(columns={'Temperature':'Temperature_C°'}, inplace=True)\n",
    "\n",
    "df_store_sales.head()"
   ]
  },
  {
   "cell_type": "code",
   "execution_count": 29,
   "id": "89e02e61",
   "metadata": {},
   "outputs": [
    {
     "name": "stdout",
     "output_type": "stream",
     "text": [
      "Dropping outliers \n",
      "Number of lines remaining :  90\n",
      "\n"
     ]
    },
    {
     "data": {
      "text/html": [
       "<div>\n",
       "<style scoped>\n",
       "    .dataframe tbody tr th:only-of-type {\n",
       "        vertical-align: middle;\n",
       "    }\n",
       "\n",
       "    .dataframe tbody tr th {\n",
       "        vertical-align: top;\n",
       "    }\n",
       "\n",
       "    .dataframe thead th {\n",
       "        text-align: right;\n",
       "    }\n",
       "</style>\n",
       "<table border=\"1\" class=\"dataframe\">\n",
       "  <thead>\n",
       "    <tr style=\"text-align: right;\">\n",
       "      <th></th>\n",
       "      <th>Store</th>\n",
       "      <th>Weekly_Sales</th>\n",
       "      <th>Holiday_Flag</th>\n",
       "      <th>Temperature_C°</th>\n",
       "      <th>Fuel_Price</th>\n",
       "      <th>CPI</th>\n",
       "      <th>Unemployment</th>\n",
       "      <th>day</th>\n",
       "      <th>month</th>\n",
       "      <th>year</th>\n",
       "    </tr>\n",
       "  </thead>\n",
       "  <tbody>\n",
       "    <tr>\n",
       "      <th>0</th>\n",
       "      <td>6.0</td>\n",
       "      <td>1572117.54</td>\n",
       "      <td>NaN</td>\n",
       "      <td>15.338889</td>\n",
       "      <td>3.045</td>\n",
       "      <td>214.777523</td>\n",
       "      <td>6.858</td>\n",
       "      <td>18</td>\n",
       "      <td>2</td>\n",
       "      <td>2011</td>\n",
       "    </tr>\n",
       "    <tr>\n",
       "      <th>1</th>\n",
       "      <td>13.0</td>\n",
       "      <td>1807545.43</td>\n",
       "      <td>0.0</td>\n",
       "      <td>5.766667</td>\n",
       "      <td>3.435</td>\n",
       "      <td>128.616064</td>\n",
       "      <td>7.470</td>\n",
       "      <td>25</td>\n",
       "      <td>3</td>\n",
       "      <td>2011</td>\n",
       "    </tr>\n",
       "    <tr>\n",
       "      <th>4</th>\n",
       "      <td>6.0</td>\n",
       "      <td>1644470.66</td>\n",
       "      <td>0.0</td>\n",
       "      <td>26.050000</td>\n",
       "      <td>2.759</td>\n",
       "      <td>212.412888</td>\n",
       "      <td>7.092</td>\n",
       "      <td>28</td>\n",
       "      <td>5</td>\n",
       "      <td>2010</td>\n",
       "    </tr>\n",
       "    <tr>\n",
       "      <th>6</th>\n",
       "      <td>15.0</td>\n",
       "      <td>695396.19</td>\n",
       "      <td>0.0</td>\n",
       "      <td>21.000000</td>\n",
       "      <td>4.069</td>\n",
       "      <td>134.855161</td>\n",
       "      <td>7.658</td>\n",
       "      <td>3</td>\n",
       "      <td>6</td>\n",
       "      <td>2011</td>\n",
       "    </tr>\n",
       "    <tr>\n",
       "      <th>7</th>\n",
       "      <td>20.0</td>\n",
       "      <td>2203523.20</td>\n",
       "      <td>0.0</td>\n",
       "      <td>4.405556</td>\n",
       "      <td>3.617</td>\n",
       "      <td>213.023622</td>\n",
       "      <td>6.961</td>\n",
       "      <td>3</td>\n",
       "      <td>2</td>\n",
       "      <td>2012</td>\n",
       "    </tr>\n",
       "  </tbody>\n",
       "</table>\n",
       "</div>"
      ],
      "text/plain": [
       "   Store  Weekly_Sales  Holiday_Flag  Temperature_C°  Fuel_Price         CPI  \\\n",
       "0    6.0    1572117.54           NaN       15.338889       3.045  214.777523   \n",
       "1   13.0    1807545.43           0.0        5.766667       3.435  128.616064   \n",
       "4    6.0    1644470.66           0.0       26.050000       2.759  212.412888   \n",
       "6   15.0     695396.19           0.0       21.000000       4.069  134.855161   \n",
       "7   20.0    2203523.20           0.0        4.405556       3.617  213.023622   \n",
       "\n",
       "   Unemployment  day  month  year  \n",
       "0         6.858   18      2  2011  \n",
       "1         7.470   25      3  2011  \n",
       "4         7.092   28      5  2010  \n",
       "6         7.658    3      6  2011  \n",
       "7         6.961    3      2  2012  "
      ]
     },
     "execution_count": 29,
     "metadata": {},
     "output_type": "execute_result"
    }
   ],
   "source": [
    "# Drop lines containing outliers (using masks) within Temperature, Fuel_price, CPI, Unemployment and Weekly_Sales\n",
    "print('Dropping outliers ')\n",
    "for col in ['Weekly_Sales', 'Temperature_C°', 'Fuel_Price', 'CPI', 'Unemployment']:\n",
    "    to_keep = (df_store_sales[col] < df_store_sales[col].mean() + 3*df_store_sales[col].std()) & (df_store_sales[col] > df_store_sales[col].mean() - 3*df_store_sales[col].std())\n",
    "    df_store_sales = df_store_sales.loc[to_keep,:]\n",
    "\n",
    "print('Number of lines remaining : ', df_store_sales.shape[0])\n",
    "print()\n",
    "\n",
    "df_store_sales.head()"
   ]
  },
  {
   "cell_type": "code",
   "execution_count": 30,
   "id": "ad02378d",
   "metadata": {},
   "outputs": [],
   "source": [
    "df_store_sales.Holiday_Flag.fillna(0.0, inplace=True)"
   ]
  },
  {
   "cell_type": "code",
   "execution_count": 31,
   "id": "a23aa401",
   "metadata": {},
   "outputs": [
    {
     "name": "stdout",
     "output_type": "stream",
     "text": [
      "number of missing values: \n",
      "Store             0\n",
      "Weekly_Sales      0\n",
      "Holiday_Flag      0\n",
      "Temperature_C°    0\n",
      "Fuel_Price        0\n",
      "CPI               0\n",
      "Unemployment      0\n",
      "day               0\n",
      "month             0\n",
      "year              0\n",
      "dtype: int64\n",
      "\n"
     ]
    }
   ],
   "source": [
    "print(\"number of missing values: \")\n",
    "print(df_store_sales.isnull().sum())\n",
    "print()"
   ]
  },
  {
   "cell_type": "code",
   "execution_count": 32,
   "id": "635af00f",
   "metadata": {},
   "outputs": [],
   "source": [
    "df_store_sales.reset_index(drop=True,inplace=True)"
   ]
  },
  {
   "cell_type": "code",
   "execution_count": 33,
   "id": "94a971a6-dda1-42d3-90c9-124bbede5d7e",
   "metadata": {},
   "outputs": [
    {
     "data": {
      "text/html": [
       "<div>\n",
       "<style scoped>\n",
       "    .dataframe tbody tr th:only-of-type {\n",
       "        vertical-align: middle;\n",
       "    }\n",
       "\n",
       "    .dataframe tbody tr th {\n",
       "        vertical-align: top;\n",
       "    }\n",
       "\n",
       "    .dataframe thead th {\n",
       "        text-align: right;\n",
       "    }\n",
       "</style>\n",
       "<table border=\"1\" class=\"dataframe\">\n",
       "  <thead>\n",
       "    <tr style=\"text-align: right;\">\n",
       "      <th></th>\n",
       "      <th>Store</th>\n",
       "      <th>Weekly_Sales</th>\n",
       "      <th>Holiday_Flag</th>\n",
       "      <th>Temperature_C°</th>\n",
       "      <th>Fuel_Price</th>\n",
       "      <th>CPI</th>\n",
       "      <th>Unemployment</th>\n",
       "      <th>day</th>\n",
       "      <th>month</th>\n",
       "      <th>year</th>\n",
       "    </tr>\n",
       "  </thead>\n",
       "  <tbody>\n",
       "    <tr>\n",
       "      <th>count</th>\n",
       "      <td>90.000000</td>\n",
       "      <td>9.000000e+01</td>\n",
       "      <td>90.000000</td>\n",
       "      <td>90.000000</td>\n",
       "      <td>90.000000</td>\n",
       "      <td>90.000000</td>\n",
       "      <td>90.000000</td>\n",
       "      <td>90.000000</td>\n",
       "      <td>90.000000</td>\n",
       "      <td>90.000000</td>\n",
       "    </tr>\n",
       "    <tr>\n",
       "      <th>mean</th>\n",
       "      <td>9.900000</td>\n",
       "      <td>1.233865e+06</td>\n",
       "      <td>0.066667</td>\n",
       "      <td>16.145000</td>\n",
       "      <td>3.318444</td>\n",
       "      <td>179.524905</td>\n",
       "      <td>7.389733</td>\n",
       "      <td>16.444444</td>\n",
       "      <td>6.766667</td>\n",
       "      <td>2011.011111</td>\n",
       "    </tr>\n",
       "    <tr>\n",
       "      <th>std</th>\n",
       "      <td>6.204475</td>\n",
       "      <td>6.647250e+05</td>\n",
       "      <td>0.250841</td>\n",
       "      <td>9.858911</td>\n",
       "      <td>0.484399</td>\n",
       "      <td>39.554303</td>\n",
       "      <td>0.982729</td>\n",
       "      <td>8.079814</td>\n",
       "      <td>3.076004</td>\n",
       "      <td>0.854525</td>\n",
       "    </tr>\n",
       "    <tr>\n",
       "      <th>min</th>\n",
       "      <td>1.000000</td>\n",
       "      <td>2.689290e+05</td>\n",
       "      <td>0.000000</td>\n",
       "      <td>-7.338889</td>\n",
       "      <td>2.548000</td>\n",
       "      <td>126.128355</td>\n",
       "      <td>5.143000</td>\n",
       "      <td>1.000000</td>\n",
       "      <td>1.000000</td>\n",
       "      <td>2010.000000</td>\n",
       "    </tr>\n",
       "    <tr>\n",
       "      <th>25%</th>\n",
       "      <td>4.000000</td>\n",
       "      <td>5.617240e+05</td>\n",
       "      <td>0.000000</td>\n",
       "      <td>7.412500</td>\n",
       "      <td>2.814750</td>\n",
       "      <td>132.602339</td>\n",
       "      <td>6.642250</td>\n",
       "      <td>11.000000</td>\n",
       "      <td>4.000000</td>\n",
       "      <td>2010.000000</td>\n",
       "    </tr>\n",
       "    <tr>\n",
       "      <th>50%</th>\n",
       "      <td>9.000000</td>\n",
       "      <td>1.260826e+06</td>\n",
       "      <td>0.000000</td>\n",
       "      <td>16.361111</td>\n",
       "      <td>3.468000</td>\n",
       "      <td>197.166416</td>\n",
       "      <td>7.419000</td>\n",
       "      <td>18.000000</td>\n",
       "      <td>7.000000</td>\n",
       "      <td>2011.000000</td>\n",
       "    </tr>\n",
       "    <tr>\n",
       "      <th>75%</th>\n",
       "      <td>15.750000</td>\n",
       "      <td>1.807159e+06</td>\n",
       "      <td>0.000000</td>\n",
       "      <td>24.329167</td>\n",
       "      <td>3.737750</td>\n",
       "      <td>214.855374</td>\n",
       "      <td>8.099000</td>\n",
       "      <td>22.000000</td>\n",
       "      <td>10.000000</td>\n",
       "      <td>2012.000000</td>\n",
       "    </tr>\n",
       "    <tr>\n",
       "      <th>max</th>\n",
       "      <td>20.000000</td>\n",
       "      <td>2.771397e+06</td>\n",
       "      <td>1.000000</td>\n",
       "      <td>33.138889</td>\n",
       "      <td>4.170000</td>\n",
       "      <td>226.968844</td>\n",
       "      <td>9.342000</td>\n",
       "      <td>31.000000</td>\n",
       "      <td>12.000000</td>\n",
       "      <td>2012.000000</td>\n",
       "    </tr>\n",
       "  </tbody>\n",
       "</table>\n",
       "</div>"
      ],
      "text/plain": [
       "           Store  Weekly_Sales  Holiday_Flag  Temperature_C°  Fuel_Price  \\\n",
       "count  90.000000  9.000000e+01     90.000000       90.000000   90.000000   \n",
       "mean    9.900000  1.233865e+06      0.066667       16.145000    3.318444   \n",
       "std     6.204475  6.647250e+05      0.250841        9.858911    0.484399   \n",
       "min     1.000000  2.689290e+05      0.000000       -7.338889    2.548000   \n",
       "25%     4.000000  5.617240e+05      0.000000        7.412500    2.814750   \n",
       "50%     9.000000  1.260826e+06      0.000000       16.361111    3.468000   \n",
       "75%    15.750000  1.807159e+06      0.000000       24.329167    3.737750   \n",
       "max    20.000000  2.771397e+06      1.000000       33.138889    4.170000   \n",
       "\n",
       "              CPI  Unemployment        day      month         year  \n",
       "count   90.000000     90.000000  90.000000  90.000000    90.000000  \n",
       "mean   179.524905      7.389733  16.444444   6.766667  2011.011111  \n",
       "std     39.554303      0.982729   8.079814   3.076004     0.854525  \n",
       "min    126.128355      5.143000   1.000000   1.000000  2010.000000  \n",
       "25%    132.602339      6.642250  11.000000   4.000000  2010.000000  \n",
       "50%    197.166416      7.419000  18.000000   7.000000  2011.000000  \n",
       "75%    214.855374      8.099000  22.000000  10.000000  2012.000000  \n",
       "max    226.968844      9.342000  31.000000  12.000000  2012.000000  "
      ]
     },
     "execution_count": 33,
     "metadata": {},
     "output_type": "execute_result"
    }
   ],
   "source": [
    "df_store_sales.describe(include='all')"
   ]
  },
  {
   "cell_type": "code",
   "execution_count": 34,
   "id": "cac90d66-15b0-4cba-8a27-1c4dd210f5b8",
   "metadata": {},
   "outputs": [
    {
     "name": "stdout",
     "output_type": "stream",
     "text": [
      "number of missing values: \n",
      "Store             0\n",
      "Weekly_Sales      0\n",
      "Holiday_Flag      0\n",
      "Temperature_C°    0\n",
      "Fuel_Price        0\n",
      "CPI               0\n",
      "Unemployment      0\n",
      "day               0\n",
      "month             0\n",
      "year              0\n",
      "dtype: int64\n",
      "\n"
     ]
    }
   ],
   "source": [
    "print(\"number of missing values: \")\n",
    "print(df_store_sales.isnull().sum())\n",
    "print()"
   ]
  },
  {
   "cell_type": "markdown",
   "id": "79247986",
   "metadata": {},
   "source": [
    "## PREPROCESSING WITH SCIKITLEARN"
   ]
  },
  {
   "cell_type": "code",
   "execution_count": 35,
   "id": "5e196d30-e8fd-47e6-b6e8-db661ad68b39",
   "metadata": {},
   "outputs": [
    {
     "name": "stdout",
     "output_type": "stream",
     "text": [
      "Separating labels from features...\n",
      "...Done.\n",
      "0    1572117.54\n",
      "1    1807545.43\n",
      "2    1644470.66\n",
      "3     695396.19\n",
      "4    2203523.20\n",
      "Name: Weekly_Sales, dtype: float64\n",
      "\n",
      "   Store  Holiday_Flag  Temperature_C°  Fuel_Price         CPI  Unemployment  \\\n",
      "0    6.0           0.0       15.338889       3.045  214.777523         6.858   \n",
      "1   13.0           0.0        5.766667       3.435  128.616064         7.470   \n",
      "2    6.0           0.0       26.050000       2.759  212.412888         7.092   \n",
      "3   15.0           0.0       21.000000       4.069  134.855161         7.658   \n",
      "4   20.0           0.0        4.405556       3.617  213.023622         6.961   \n",
      "\n",
      "   day  month  year  \n",
      "0   18      2  2011  \n",
      "1   25      3  2011  \n",
      "2   28      5  2010  \n",
      "3    3      6  2011  \n",
      "4    3      2  2012  \n",
      "\n"
     ]
    }
   ],
   "source": [
    "# Separate target variable Y from features X\n",
    "target_name = 'Weekly_Sales'\n",
    "\n",
    "print(\"Separating labels from features...\")\n",
    "Y = df_store_sales.loc[:,target_name]\n",
    "X = df_store_sales.loc[:,[c for c in df_store_sales.columns if c!=target_name]] # All columns are kept, except the target\n",
    "print(\"...Done.\")\n",
    "print(Y.head())\n",
    "print()\n",
    "print(X.head())\n",
    "print()"
   ]
  },
  {
   "cell_type": "code",
   "execution_count": 36,
   "id": "af37e37a-53c2-4d77-98b1-56783e539c56",
   "metadata": {},
   "outputs": [
    {
     "name": "stdout",
     "output_type": "stream",
     "text": [
      "Dividing into train and test sets...\n",
      "...Done.\n",
      "\n"
     ]
    }
   ],
   "source": [
    "print(\"Dividing into train and test sets...\")\n",
    "X_train, X_test, Y_train, Y_test = train_test_split(X, Y, test_size=0.3, random_state=0)\n",
    "print(\"...Done.\")\n",
    "print()"
   ]
  },
  {
   "cell_type": "code",
   "execution_count": 37,
   "id": "021a07ef-da4e-4281-83e6-f8f208305f55",
   "metadata": {},
   "outputs": [],
   "source": [
    "# Create pipeline for numeric features\n",
    "numeric_features = ['Temperature_C°', 'Fuel_Price','CPI', 'Unemployment', 'day', 'month', 'year'] # Positions of numeric columns in X_train/X_test\n",
    "numeric_transformer = Pipeline(steps=[\n",
    "    #('imputer', SimpleImputer(strategy='median')), # missing values will be replaced by columns' median\n",
    "    ('scaler', StandardScaler())\n",
    "])"
   ]
  },
  {
   "cell_type": "code",
   "execution_count": 38,
   "id": "1a43ebd3-d9cc-4758-b19f-0f9c67187da3",
   "metadata": {},
   "outputs": [],
   "source": [
    "# Create pipeline for categorical features\n",
    "categorical_features = ['Store','Holiday_Flag'] # Positions of categorical columns in X_train/X_test\n",
    "categorical_transformer = Pipeline(\n",
    "    steps=[\n",
    "    #('imputer', SimpleImputer(strategy='most_frequent')), # missing values will be replaced by most frequent value\n",
    "    ('encoder', OneHotEncoder(drop='first')) # first column will be dropped to avoid creating correlations between features\n",
    "    ])"
   ]
  },
  {
   "cell_type": "code",
   "execution_count": 39,
   "id": "5fa5240b-170e-4b67-9f7d-c7b872672be0",
   "metadata": {},
   "outputs": [],
   "source": [
    "# Use ColumnTransformer to make a preprocessor object that describes all the treatments to be done\n",
    "preprocessor = ColumnTransformer(\n",
    "    transformers=[\n",
    "        ('num', numeric_transformer, numeric_features),\n",
    "        ('cat', categorical_transformer, categorical_features)\n",
    "    ])"
   ]
  },
  {
   "cell_type": "code",
   "execution_count": 40,
   "id": "4b7b8977-e53a-40a0-8157-d6f95cf595c2",
   "metadata": {},
   "outputs": [
    {
     "name": "stdout",
     "output_type": "stream",
     "text": [
      "Performing preprocessings on train set...\n",
      "...Done.\n",
      "\n",
      "Performing preprocessings on test set...\n",
      "...Done.\n",
      "\n"
     ]
    }
   ],
   "source": [
    "# Preprocessings on train set\n",
    "print(\"Performing preprocessings on train set...\")\n",
    "X_train = preprocessor.fit_transform(X_train)\n",
    "print('...Done.')\n",
    "print()\n",
    "\n",
    "# Preprocessings on test set\n",
    "print(\"Performing preprocessings on test set...\")\n",
    "X_test = preprocessor.transform(X_test) \n",
    "print('...Done.')\n",
    "print()"
   ]
  },
  {
   "cell_type": "markdown",
   "id": "fe549d2d",
   "metadata": {},
   "source": [
    "# Part 2 : Baseline model (linear regression)"
   ]
  },
  {
   "cell_type": "markdown",
   "id": "50de0bed",
   "metadata": {},
   "source": [
    "## LINEAR REGRESSION MODEL"
   ]
  },
  {
   "cell_type": "code",
   "execution_count": 41,
   "id": "60a7fdd6-0976-4a89-9488-10ed30b8b4df",
   "metadata": {},
   "outputs": [
    {
     "name": "stdout",
     "output_type": "stream",
     "text": [
      "Train model...\n",
      "...Done.\n"
     ]
    }
   ],
   "source": [
    "# Train model\n",
    "print(\"Train model...\")\n",
    "regressor = LinearRegression()\n",
    "regressor.fit(X_train, Y_train)\n",
    "print(\"...Done.\")"
   ]
  },
  {
   "cell_type": "code",
   "execution_count": 42,
   "id": "0d51ffc7-72f5-4988-bef5-9b123f70175c",
   "metadata": {},
   "outputs": [
    {
     "name": "stdout",
     "output_type": "stream",
     "text": [
      "Predictions on training set...\n",
      "...Done.\n",
      "[1079343.7847604  2127678.78383621  649668.08839755 2131076.61690723\n",
      "  606129.93108704  530821.7754515   789124.40722658  616339.33160245\n",
      " 1683207.99641697  186724.72173346  532554.11175121 1841863.61283075\n",
      " 2104576.33971289 1110663.55023705 1428258.53119794 2054707.4343793\n",
      " 1936046.73642024  413557.83231807 2017805.24479721  932995.528865\n",
      " 1625155.2947064  2037685.83382785 1575027.98403661 1557465.74469477\n",
      " 1935337.54630442  321319.39718091  514501.19123155  932301.38525542\n",
      " 1531817.04922631 2018448.84958289 2063606.88952968  521228.30135507\n",
      " 1911737.92337303 1623173.24391019  426255.04741991  247560.08725993\n",
      "  511756.451208    435397.19       1784311.90359851 1981845.83564449\n",
      "  431091.20507002 2087374.65278908 1872205.34511295  785398.577518\n",
      " 1526935.59059883  471231.01701723  443694.07100661 1785494.93872493\n",
      "  434728.42050989  950622.651135   2259794.08136658 1772885.72726634\n",
      " 1176495.54407116 1757242.51       1941661.63324873  611475.1608984\n",
      " 1781219.09399761 1601888.44563623  439165.5775012  1360346.49957574\n",
      " 1048069.1209314  2153643.72947165 1785271.68727747]\n",
      "\n"
     ]
    }
   ],
   "source": [
    "# Predictions on training set\n",
    "print(\"Predictions on training set...\")\n",
    "Y_train_pred = regressor.predict(X_train)\n",
    "print(\"...Done.\")\n",
    "print(Y_train_pred)\n",
    "print()"
   ]
  },
  {
   "cell_type": "code",
   "execution_count": 43,
   "id": "9b08faa8-805a-481e-9bd5-5e2f27a2921f",
   "metadata": {},
   "outputs": [
    {
     "name": "stdout",
     "output_type": "stream",
     "text": [
      "Predictions on test set...\n",
      "...Done.\n",
      "[1585042.1493731   698941.60485269 1903709.58016681 1762091.05697075\n",
      "  396710.60893184  274712.22993213 1220014.76080531 2199537.26557375\n",
      " 1990690.99184096 1309242.48761077 1181491.51172493  952804.76533393\n",
      "  441460.14564778  365147.63864455  526574.57356088 1355347.69095905\n",
      " 2010261.40779522  405369.47403952  637481.69612855  411185.12509644\n",
      " 1264247.02869863  923802.26217015 1587835.89006904 1584083.35199648\n",
      " 1963784.26335673  620480.04367318 1025957.32428244]\n",
      "\n"
     ]
    }
   ],
   "source": [
    "# Predictions on test set\n",
    "print(\"Predictions on test set...\")\n",
    "Y_test_pred = regressor.predict(X_test)\n",
    "print(\"...Done.\")\n",
    "print(Y_test_pred)\n",
    "print()"
   ]
  },
  {
   "cell_type": "code",
   "execution_count": 44,
   "id": "273bd7aa-ac62-4f77-a690-18f8c8451cc0",
   "metadata": {},
   "outputs": [
    {
     "name": "stdout",
     "output_type": "stream",
     "text": [
      "R2 score on training set :  0.9870700680067128\n",
      "R2 score on test set :  0.9441617285214133\n"
     ]
    }
   ],
   "source": [
    "# Print R^2 scores\n",
    "print(\"R2 score on training set : \", r2_score(Y_train, Y_train_pred))\n",
    "print(\"R2 score on test set : \", r2_score(Y_test, Y_test_pred))"
   ]
  },
  {
   "cell_type": "code",
   "execution_count": 45,
   "id": "6328cdc0",
   "metadata": {},
   "outputs": [],
   "source": [
    "LinearRegression_scores=[r2_score(Y_train, Y_train_pred),r2_score(Y_test, Y_test_pred)]"
   ]
  },
  {
   "cell_type": "code",
   "execution_count": 46,
   "id": "dfa63e12-eca5-40bc-8fd5-3cc906f1df3a",
   "metadata": {},
   "outputs": [
    {
     "data": {
      "text/plain": [
       "array([   8990.55063165,   73526.63269455,  618353.6785217 ,\n",
       "         16665.06429784,   50039.01270229,   28132.43469057,\n",
       "          5060.99732598,  227816.82064643, 1298164.72346941,\n",
       "       1908326.1794003 , 1262239.83817201,   51344.4896823 ,\n",
       "        686944.22478336,  665185.44530231, 1178456.24276353,\n",
       "       1526174.27976658,  184644.78875503, 1780383.71548303,\n",
       "        925485.6956516 ,  366287.50424845,  680308.3150346 ,\n",
       "        563754.43597195,  751113.84867911, 1093260.74129288,\n",
       "        537061.55544839,   84930.35970693])"
      ]
     },
     "execution_count": 46,
     "metadata": {},
     "output_type": "execute_result"
    }
   ],
   "source": [
    "coef_list=abs(regressor.coef_)\n",
    "coef_list\n"
   ]
  },
  {
   "cell_type": "code",
   "execution_count": 47,
   "id": "9490f0e7",
   "metadata": {},
   "outputs": [
    {
     "data": {
      "text/plain": [
       "array(['num__Temperature_C°', 'num__Fuel_Price', 'num__CPI',\n",
       "       'num__Unemployment', 'num__day', 'num__month', 'num__year',\n",
       "       'cat__Store_2.0', 'cat__Store_3.0', 'cat__Store_4.0',\n",
       "       'cat__Store_5.0', 'cat__Store_6.0', 'cat__Store_7.0',\n",
       "       'cat__Store_8.0', 'cat__Store_9.0', 'cat__Store_10.0',\n",
       "       'cat__Store_11.0', 'cat__Store_13.0', 'cat__Store_14.0',\n",
       "       'cat__Store_15.0', 'cat__Store_16.0', 'cat__Store_17.0',\n",
       "       'cat__Store_18.0', 'cat__Store_19.0', 'cat__Store_20.0',\n",
       "       'cat__Holiday_Flag_1.0'], dtype=object)"
      ]
     },
     "execution_count": 47,
     "metadata": {},
     "output_type": "execute_result"
    }
   ],
   "source": [
    "feature_name_list=preprocessor.get_feature_names_out()\n",
    "feature_name_list"
   ]
  },
  {
   "cell_type": "code",
   "execution_count": 48,
   "id": "13081e78",
   "metadata": {},
   "outputs": [
    {
     "data": {
      "text/html": [
       "<div>\n",
       "<style scoped>\n",
       "    .dataframe tbody tr th:only-of-type {\n",
       "        vertical-align: middle;\n",
       "    }\n",
       "\n",
       "    .dataframe tbody tr th {\n",
       "        vertical-align: top;\n",
       "    }\n",
       "\n",
       "    .dataframe thead th {\n",
       "        text-align: right;\n",
       "    }\n",
       "</style>\n",
       "<table border=\"1\" class=\"dataframe\">\n",
       "  <thead>\n",
       "    <tr style=\"text-align: right;\">\n",
       "      <th></th>\n",
       "      <th>features</th>\n",
       "      <th>coef</th>\n",
       "    </tr>\n",
       "  </thead>\n",
       "  <tbody>\n",
       "    <tr>\n",
       "      <th>9</th>\n",
       "      <td>cat__Store_4.0</td>\n",
       "      <td>1.908326e+06</td>\n",
       "    </tr>\n",
       "    <tr>\n",
       "      <th>17</th>\n",
       "      <td>cat__Store_13.0</td>\n",
       "      <td>1.780384e+06</td>\n",
       "    </tr>\n",
       "    <tr>\n",
       "      <th>15</th>\n",
       "      <td>cat__Store_10.0</td>\n",
       "      <td>1.526174e+06</td>\n",
       "    </tr>\n",
       "    <tr>\n",
       "      <th>8</th>\n",
       "      <td>cat__Store_3.0</td>\n",
       "      <td>1.298165e+06</td>\n",
       "    </tr>\n",
       "    <tr>\n",
       "      <th>10</th>\n",
       "      <td>cat__Store_5.0</td>\n",
       "      <td>1.262240e+06</td>\n",
       "    </tr>\n",
       "    <tr>\n",
       "      <th>14</th>\n",
       "      <td>cat__Store_9.0</td>\n",
       "      <td>1.178456e+06</td>\n",
       "    </tr>\n",
       "    <tr>\n",
       "      <th>23</th>\n",
       "      <td>cat__Store_19.0</td>\n",
       "      <td>1.093261e+06</td>\n",
       "    </tr>\n",
       "    <tr>\n",
       "      <th>18</th>\n",
       "      <td>cat__Store_14.0</td>\n",
       "      <td>9.254857e+05</td>\n",
       "    </tr>\n",
       "    <tr>\n",
       "      <th>22</th>\n",
       "      <td>cat__Store_18.0</td>\n",
       "      <td>7.511138e+05</td>\n",
       "    </tr>\n",
       "    <tr>\n",
       "      <th>12</th>\n",
       "      <td>cat__Store_7.0</td>\n",
       "      <td>6.869442e+05</td>\n",
       "    </tr>\n",
       "  </tbody>\n",
       "</table>\n",
       "</div>"
      ],
      "text/plain": [
       "           features          coef\n",
       "9    cat__Store_4.0  1.908326e+06\n",
       "17  cat__Store_13.0  1.780384e+06\n",
       "15  cat__Store_10.0  1.526174e+06\n",
       "8    cat__Store_3.0  1.298165e+06\n",
       "10   cat__Store_5.0  1.262240e+06\n",
       "14   cat__Store_9.0  1.178456e+06\n",
       "23  cat__Store_19.0  1.093261e+06\n",
       "18  cat__Store_14.0  9.254857e+05\n",
       "22  cat__Store_18.0  7.511138e+05\n",
       "12   cat__Store_7.0  6.869442e+05"
      ]
     },
     "execution_count": 48,
     "metadata": {},
     "output_type": "execute_result"
    }
   ],
   "source": [
    "data={'features':feature_name_list,'coef':coef_list}\n",
    "df_coef=pd.DataFrame(data=data)\n",
    "df_coef.sort_values(by=['coef'], inplace=True, ascending=False)\n",
    "df_coef.head(10)"
   ]
  },
  {
   "cell_type": "code",
   "execution_count": 49,
   "id": "62dd5fbe",
   "metadata": {},
   "outputs": [
    {
     "data": {
      "text/plain": [
       "<AxesSubplot:xlabel='coef', ylabel='features'>"
      ]
     },
     "execution_count": 49,
     "metadata": {},
     "output_type": "execute_result"
    },
    {
     "data": {
      "image/png": "[encoded data removed]",
      "text/plain": [
       "<Figure size 1296x504 with 1 Axes>"
      ]
     },
     "metadata": {
      "needs_background": "light"
     },
     "output_type": "display_data"
    }
   ],
   "source": [
    "rcParams['figure.figsize'] = 18,7\n",
    "#visualize relation between month and  weekly sales\n",
    "sns.barplot(data = df_coef, x ='coef' , y =  'features')"
   ]
  },
  {
   "cell_type": "markdown",
   "id": "471709c2",
   "metadata": {},
   "source": [
    "# Part 3 : Fight overfitting"
   ]
  },
  {
   "cell_type": "markdown",
   "id": "bbf020a0",
   "metadata": {},
   "source": [
    "## RIDGE MODEL ALPHA=1"
   ]
  },
  {
   "cell_type": "code",
   "execution_count": 50,
   "id": "545fce04-b733-4004-9ee4-53759ce46c54",
   "metadata": {},
   "outputs": [],
   "source": [
    "### Ridge model"
   ]
  },
  {
   "cell_type": "code",
   "execution_count": 51,
   "id": "85c6ce5a-5bc5-4ea8-a14b-d35a39364256",
   "metadata": {},
   "outputs": [
    {
     "name": "stdout",
     "output_type": "stream",
     "text": [
      "train score:0.9252936408940631\n",
      "test score:0.8274806583354138\n"
     ]
    }
   ],
   "source": [
    "clf1 = Ridge(alpha=1)\n",
    "clf1.fit(X_train, Y_train)\n",
    "print(\"train score:{}\".format(clf1.score(X_train, Y_train)))\n",
    "print(\"test score:{}\".format(clf1.score(X_test, Y_test)))"
   ]
  },
  {
   "cell_type": "code",
   "execution_count": 52,
   "id": "341d02ee",
   "metadata": {},
   "outputs": [],
   "source": [
    "ridge_scores=[clf1.score(X_train, Y_train),clf1.score(X_test, Y_test)]"
   ]
  },
  {
   "cell_type": "code",
   "execution_count": 53,
   "id": "811434e1-cf1b-46dd-af17-39530f179cff",
   "metadata": {},
   "outputs": [
    {
     "name": "stdout",
     "output_type": "stream",
     "text": [
      "['2.29e+04' '-6.86e+04' '-6.00e+04' '1.06e+05' '-4.01e+04' '1.44e+04'\n",
      " '6.70e+04' '3.85e+05' '-7.37e+05' '6.45e+05' '-6.33e+05' '2.97e+05'\n",
      " '-7.06e+05' '-1.47e+05' '-5.25e+05' '1.12e+05' '2.21e+05' '5.32e+05'\n",
      " '4.85e+05' '-5.13e+05' '-3.17e+05' '-3.55e+05' '-3.90e+05' '-2.99e+04'\n",
      " '6.03e+05' '2.89e+04']\n"
     ]
    }
   ],
   "source": [
    "coef_list1=[\"{:.2e}\".format(x) for x in clf1.coef_]\n",
    "print(np.array(coef_list1))"
   ]
  },
  {
   "cell_type": "markdown",
   "id": "f418a6b5",
   "metadata": {},
   "source": [
    "## LASSO MODEL ALPHA=1"
   ]
  },
  {
   "cell_type": "code",
   "execution_count": 54,
   "id": "84bb1b62-0a46-45c1-a6cb-5b397ae2cbd5",
   "metadata": {},
   "outputs": [
    {
     "name": "stdout",
     "output_type": "stream",
     "text": [
      "train score:0.9845695260907464\n",
      "test score:0.9339683576410515\n"
     ]
    }
   ],
   "source": [
    "# Lasso model\n",
    "clf_lasso = Lasso(alpha=1,fit_intercept=False)\n",
    "clf_lasso.fit(X_train, Y_train)\n",
    "\n",
    "#print score\n",
    "print(\"train score:{}\".format(clf_lasso.score(X_train, Y_train)))\n",
    "print(\"test score:{}\".format(clf_lasso.score(X_test, Y_test)))"
   ]
  },
  {
   "cell_type": "code",
   "execution_count": 55,
   "id": "0ec655d3",
   "metadata": {},
   "outputs": [],
   "source": [
    "#save scores\n",
    "lasso_scores=[clf_lasso.score(X_train, Y_train),clf_lasso.score(X_test, Y_test)]"
   ]
  },
  {
   "cell_type": "code",
   "execution_count": 56,
   "id": "47636cc3-da28-4a36-b1f8-7b4696e4b160",
   "metadata": {},
   "outputs": [
    {
     "name": "stdout",
     "output_type": "stream",
     "text": [
      "['-1.89e+03' '-9.00e+04' '1.72e+06' '6.65e+04' '-5.04e+04' '1.50e+04'\n",
      " '-4.83e+04' '3.28e+05' '-1.33e+06' '4.51e+06' '-1.16e+06' '1.45e+05'\n",
      " '-7.39e+04' '-6.14e+05' '-1.12e+06' '4.10e+06' '1.64e+05' '4.33e+06'\n",
      " '1.78e+06' '2.72e+06' '1.20e+05' '3.17e+06' '3.10e+06' '3.41e+06'\n",
      " '8.11e+05' '-4.87e+04']\n"
     ]
    }
   ],
   "source": [
    "coef_list=[\"{:.2e}\".format(x) for x in clf_lasso.coef_]\n",
    "print(np.array(coef_list))"
   ]
  },
  {
   "cell_type": "markdown",
   "id": "7565fc3d",
   "metadata": {},
   "source": [
    "## GRIDSEARCH CV FOR RIDGE MODEL"
   ]
  },
  {
   "cell_type": "code",
   "execution_count": 57,
   "id": "e7f29e81-a652-46e8-b33c-38655029fb8e",
   "metadata": {},
   "outputs": [
    {
     "name": "stdout",
     "output_type": "stream",
     "text": [
      "Grid search...\n",
      "...Done.\n",
      "Best hyperparameters :  {'alpha': 0.0}\n"
     ]
    }
   ],
   "source": [
    "# Perform grid search\n",
    "print(\"Grid search...\")\n",
    "clf_ridge = Ridge()\n",
    "# Grid of values to be tested\n",
    "params = {\n",
    "    'alpha': [0.0, 0.001,0.003, 0.004, 0.005, 0.01, 0.05, 0.1, 0.5, 1.0] # 0 corresponds to no regularization\n",
    "}\n",
    "gridsearch = GridSearchCV(clf_ridge, param_grid = params, scoring='r2' , cv = 10) # cv : the number of folds to be used for CV\n",
    "gridsearch.fit(X_train, Y_train)\n",
    "print(\"...Done.\")\n",
    "print(\"Best hyperparameters : \", gridsearch.best_params_)"
   ]
  },
  {
   "cell_type": "code",
   "execution_count": 58,
   "id": "c14f95f2-91cc-4c4b-b9db-c17c5ca06014",
   "metadata": {},
   "outputs": [
    {
     "name": "stdout",
     "output_type": "stream",
     "text": [
      "Predictions on training set...\n",
      "...Done.\n",
      "[1079343.78476043 2127678.7838362   649668.08839754 2131076.61690727\n",
      "  606129.93108705  530821.77545149  789124.40722652  616339.33160246\n",
      " 1683207.99641698  186724.72173344  532554.11175121 1841863.61283071\n",
      " 2104576.33971291 1110663.55023708 1428258.53119793 2054707.43437932\n",
      " 1936046.73642023  413557.83231807 2017805.24479719  932995.52886501\n",
      " 1625155.29470639 2037685.83382779 1575027.9840366  1557465.74469477\n",
      " 1935337.54630443  321319.39718091  514501.19123155  932301.38525545\n",
      " 1531817.04922632 2018448.84958288 2063606.88952969  521228.30135505\n",
      " 1911737.92337304 1623173.24391016  426255.04741993  247560.08725992\n",
      "  511756.45120798  435397.19       1784311.90359857 1981845.83564448\n",
      "  431091.20507006 2087374.65278909 1872205.34511292  785398.57751803\n",
      " 1526935.59059884  471231.01701724  443694.07100663 1785494.93872494\n",
      "  434728.42050986  950622.65113498 2259794.08136661 1772885.72726629\n",
      " 1176495.54407109 1757242.51       1941661.63324871  611475.16089842\n",
      " 1781219.09399761 1601888.44563626  439165.57750116 1360346.49957575\n",
      " 1048069.12093139 2153643.72947168 1785271.68727745]\n",
      "\n",
      "Predictions on test set...\n",
      "...Done.\n",
      "[1585042.14937311  698941.60485267 1903709.58016683 1762091.05697078\n",
      "  396710.60893189  274712.2299321  1220014.76080539 2199537.26557372\n",
      " 1990690.99184095 1309242.48761077 1181491.511725    952804.76533396\n",
      "  441460.14564783  365147.63864451  526574.57356083 1355347.69095905\n",
      " 2010261.40779522  405369.47403956  637481.69612858  411185.12509649\n",
      " 1264247.02869858  923802.26217016 1587835.89006897 1584083.35199643\n",
      " 1963784.26335668  620480.04367313 1025957.32428242]\n",
      "\n"
     ]
    }
   ],
   "source": [
    "# Predictions on training set\n",
    "# The model has already be re-trained on all the training set at the end of the grid search, so we can directly use it !\n",
    "print(\"Predictions on training set...\")\n",
    "Y_train_pred = gridsearch.predict(X_train)\n",
    "print(\"...Done.\")\n",
    "print(Y_train_pred)\n",
    "print()\n",
    "\n",
    "# Predictions on test set\n",
    "print(\"Predictions on test set...\")\n",
    "Y_test_pred = gridsearch.predict(X_test)\n",
    "print(\"...Done.\")\n",
    "print(Y_test_pred)\n",
    "print()"
   ]
  },
  {
   "cell_type": "code",
   "execution_count": 59,
   "id": "ec352398-1cb8-4306-9bde-a56bb54c2e7f",
   "metadata": {},
   "outputs": [
    {
     "name": "stdout",
     "output_type": "stream",
     "text": [
      "R2 score on training set :  0.9870700680067128\n",
      "R2 score on test set :  0.9441617285214107\n"
     ]
    }
   ],
   "source": [
    "# Print R^2 scores on train/test sets for the Ridge model with optimal value of the regularization strength\n",
    "print(\"R2 score on training set : \", r2_score(Y_train, Y_train_pred))\n",
    "print(\"R2 score on test set : \", r2_score(Y_test, Y_test_pred))"
   ]
  },
  {
   "cell_type": "code",
   "execution_count": 60,
   "id": "fbb6af56",
   "metadata": {},
   "outputs": [],
   "source": [
    "#save score\n",
    "grid_ridge_scores=[r2_score(Y_train, Y_train_pred),r2_score(Y_test, Y_test_pred)]"
   ]
  },
  {
   "cell_type": "markdown",
   "id": "0170b6ee",
   "metadata": {},
   "source": [
    "## GRIDSEARCH CV FOR LASSO MODEL"
   ]
  },
  {
   "cell_type": "code",
   "execution_count": 61,
   "id": "adc8cbfc-4775-42ca-b6f9-b5500a0c06ec",
   "metadata": {},
   "outputs": [
    {
     "name": "stdout",
     "output_type": "stream",
     "text": [
      "Grid search...\n",
      "...Done.\n",
      "Best hyperparameters :  {'alpha': 0.005}\n"
     ]
    }
   ],
   "source": [
    "# Perform grid search\n",
    "print(\"Grid search...\")\n",
    "clf_lasso = linear_model.Lasso(fit_intercept=False)\n",
    "# Grid of values to be tested\n",
    "params = {\n",
    "    'alpha': [0.0, 0.001,0.005, 0.01, 0.05, 0.1, 0.5, 1.0] # 0 corresponds to no regularization\n",
    "}\n",
    "gridsearch_lasso = GridSearchCV(clf_ridge, param_grid = params, scoring='r2' , cv = 5, refit=True) # cv : the number of folds to be used for CV\n",
    "gridsearch_lasso.fit(X_train, Y_train)\n",
    "print(\"...Done.\")\n",
    "print(\"Best hyperparameters : \", gridsearch_lasso.best_params_)\n",
    "#print(\"Best R2 score : \", gridsearch.best_score_)"
   ]
  },
  {
   "cell_type": "code",
   "execution_count": 62,
   "id": "7c99c7ed",
   "metadata": {},
   "outputs": [
    {
     "name": "stdout",
     "output_type": "stream",
     "text": [
      "Predictions on training set...\n",
      "...Done.\n",
      "[1061819.00779739 2132038.59699954  655274.75542994 2114999.4587407\n",
      "  604090.50240936  535079.60970756  813429.27331625  612979.35774461\n",
      " 1670837.36066777  196209.3732271   536354.92822073 1857858.33334223\n",
      " 2092574.63113332 1094017.0764333  1434954.8662155  2043419.0877414\n",
      " 1939212.92749857  411617.14075231 2023545.00842742  930020.17303742\n",
      " 1629043.89617304 2062065.50862657 1576248.82967258 1559749.26451202\n",
      " 1926851.93197437  324657.76332463  517653.57126811  924238.28464286\n",
      " 1529081.05459139 2020776.14721777 2058525.37519063  526620.63047016\n",
      " 1907252.63893739 1635915.7128449   417042.08568427  254598.90806191\n",
      "  516949.7527204   440070.71384119 1753994.07753013 1983065.13110636\n",
      "  410517.08658151 2083358.99518296 1885795.63155843  770780.11250525\n",
      " 1520583.51468697  470153.08729592  433551.56666447 1773571.5243787\n",
      "  449938.82807235  956891.17927503 2244605.70205153 1794679.40399474\n",
      " 1205874.08893357 1756231.67698035 1951481.71409224  603151.20615491\n",
      " 1785268.78033458 1586846.41670227  458690.74922368 1354933.76824306\n",
      " 1053211.54573272 2142150.34152788 1790013.12259378]\n",
      "\n",
      "Predictions on test set...\n",
      "...Done.\n",
      "[1582552.16637865  706902.69694282 1892391.00047511 1746306.02375113\n",
      "  375461.14229504  286432.99465633 1180989.15476607 2207425.2510171\n",
      " 1994688.03164995 1315440.27685734 1146064.66771503  936304.58129071\n",
      "  423620.50775088  379957.63032184  548600.26848154 1351934.39696759\n",
      " 2011010.97373786  389228.48263748  629631.84556392  384874.09661088\n",
      " 1284178.72551307  925457.99104668 1614557.37925326 1598237.56441354\n",
      " 1980341.01178006  641706.19607232 1033937.36093506]\n",
      "\n"
     ]
    }
   ],
   "source": [
    "# Predictions on training set\n",
    "# The model has already be re-trained on all the training set at the end of the grid search, so we can directly use it !\n",
    "print(\"Predictions on training set...\")\n",
    "Y_train_pred = gridsearch_lasso.predict(X_train)\n",
    "print(\"...Done.\")\n",
    "print(Y_train_pred)\n",
    "print()\n",
    "\n",
    "# Predictions on test set\n",
    "print(\"Predictions on test set...\")\n",
    "Y_test_pred = gridsearch_lasso.predict(X_test)\n",
    "print(\"...Done.\")\n",
    "print(Y_test_pred)\n",
    "print()"
   ]
  },
  {
   "cell_type": "code",
   "execution_count": 63,
   "id": "3886a748",
   "metadata": {},
   "outputs": [
    {
     "name": "stdout",
     "output_type": "stream",
     "text": [
      "R2 score on training set :  0.9867593217255297\n",
      "R2 score on test set :  0.9440357855134026\n"
     ]
    }
   ],
   "source": [
    "# Print R^2 scores on train/test sets for the Ridge model with optimal value of the regularization strength\n",
    "print(\"R2 score on training set : \", r2_score(Y_train, Y_train_pred))\n",
    "print(\"R2 score on test set : \", r2_score(Y_test, Y_test_pred))"
   ]
  },
  {
   "cell_type": "code",
   "execution_count": 64,
   "id": "249b5765",
   "metadata": {},
   "outputs": [],
   "source": [
    "#save score\n",
    "grid_lasso_scores=[r2_score(Y_train, Y_train_pred),r2_score(Y_test, Y_test_pred)]"
   ]
  },
  {
   "cell_type": "markdown",
   "id": "f6812cb3",
   "metadata": {},
   "source": [
    "# CONCLUSION"
   ]
  },
  {
   "cell_type": "code",
   "execution_count": 65,
   "id": "f96fa576",
   "metadata": {},
   "outputs": [
    {
     "data": {
      "text/html": [
       "<div>\n",
       "<style scoped>\n",
       "    .dataframe tbody tr th:only-of-type {\n",
       "        vertical-align: middle;\n",
       "    }\n",
       "\n",
       "    .dataframe tbody tr th {\n",
       "        vertical-align: top;\n",
       "    }\n",
       "\n",
       "    .dataframe thead th {\n",
       "        text-align: right;\n",
       "    }\n",
       "</style>\n",
       "<table border=\"1\" class=\"dataframe\">\n",
       "  <thead>\n",
       "    <tr style=\"text-align: right;\">\n",
       "      <th></th>\n",
       "      <th>LinearRegression_scores</th>\n",
       "      <th>ridge_scores</th>\n",
       "      <th>lasso_scores</th>\n",
       "      <th>grid_ridge_scores</th>\n",
       "      <th>grid_lasso_scores</th>\n",
       "    </tr>\n",
       "  </thead>\n",
       "  <tbody>\n",
       "    <tr>\n",
       "      <th>train</th>\n",
       "      <td>0.987070</td>\n",
       "      <td>0.925294</td>\n",
       "      <td>0.984570</td>\n",
       "      <td>0.987070</td>\n",
       "      <td>0.986759</td>\n",
       "    </tr>\n",
       "    <tr>\n",
       "      <th>test</th>\n",
       "      <td>0.944162</td>\n",
       "      <td>0.827481</td>\n",
       "      <td>0.933968</td>\n",
       "      <td>0.944162</td>\n",
       "      <td>0.944036</td>\n",
       "    </tr>\n",
       "  </tbody>\n",
       "</table>\n",
       "</div>"
      ],
      "text/plain": [
       "       LinearRegression_scores  ridge_scores  lasso_scores  grid_ridge_scores  \\\n",
       "train                 0.987070      0.925294      0.984570           0.987070   \n",
       "test                  0.944162      0.827481      0.933968           0.944162   \n",
       "\n",
       "       grid_lasso_scores  \n",
       "train           0.986759  \n",
       "test            0.944036  "
      ]
     },
     "execution_count": 65,
     "metadata": {},
     "output_type": "execute_result"
    }
   ],
   "source": [
    "#compare different scores\n",
    "scores={'LinearRegression_scores':LinearRegression_scores, 'ridge_scores':ridge_scores, 'lasso_scores':lasso_scores, 'grid_ridge_scores':grid_ridge_scores,'grid_lasso_scores':grid_lasso_scores}\n",
    "scores_df=pd.DataFrame(scores,index=['train','test'])\n",
    "scores_df.head()"
   ]
  },
  {
   "cell_type": "markdown",
   "id": "1d6f1482",
   "metadata": {},
   "source": [
    "-> we can see that there is a very small overfitting which is not reduced a lot with ridge and lasso models but generally the model is very well performing"
   ]
  }
 ],
 "metadata": {
  "kernelspec": {
   "display_name": "Python 3 (ipykernel)",
   "language": "python",
   "name": "python3"
  },
  "language_info": {
   "codemirror_mode": {
    "name": "ipython",
    "version": 3
   },
   "file_extension": ".py",
   "mimetype": "text/x-python",
   "name": "python",
   "nbconvert_exporter": "python",
   "pygments_lexer": "ipython3",
   "version": "3.9.7"
  }
 },
 "nbformat": 4,
 "nbformat_minor": 5
}
